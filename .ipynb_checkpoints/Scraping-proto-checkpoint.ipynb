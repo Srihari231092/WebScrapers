{
 "cells": [
  {
   "cell_type": "code",
   "execution_count": 1,
   "metadata": {},
   "outputs": [
    {
     "data": {
      "text/html": [
       "<style>.container { width:100% !important; }</style>"
      ],
      "text/plain": [
       "<IPython.core.display.HTML object>"
      ]
     },
     "metadata": {},
     "output_type": "display_data"
    }
   ],
   "source": [
    "# Put these at the top of every notebook, to get automatic reloading and inline plotting\n",
    "import pandas as pd\n",
    "from IPython.core.display import display, HTML\n",
    "import matplotlib.pyplot as plt\n",
    "import warnings\n",
    "warnings.filterwarnings('ignore')\n",
    "\n",
    "%reload_ext autoreload\n",
    "%autoreload 1\n",
    "\n",
    "pd.set_option('display.max_rows', 800)\n",
    "pd.set_option('display.max_columns', 500)\n",
    "pd.set_option('display.width', 1000)\n",
    "pd.set_option('display.max_colwidth', 100)\n",
    "\n",
    "display(HTML(\"<style>.container { width:100% !important; }</style>\"))\n",
    "\n",
    "import warnings\n",
    "warnings.filterwarnings('ignore')\n",
    "\n",
    "import os, glob\n",
    "import pandas as pd\n",
    "import numpy as np\n",
    "from scipy.spatial.distance import cdist, euclidean\n",
    "from scipy import stats\n",
    "import sklearn\n",
    "import matplotlib.pyplot as plt\n",
    "import seaborn as sns\n",
    "sns.set(style='whitegrid')\n",
    "\n",
    "import statsmodels.formula.api as smfapi\n",
    "import statsmodels.api as smapi\n",
    "from sklearn.preprocessing import StandardScaler\n",
    "from sklearn.model_selection import train_test_split\n",
    "\n",
    "from sklearn.model_selection import cross_val_score\n",
    "from sklearn.metrics import mean_squared_error as MSE\n",
    "\n",
    "from scipy.stats import f as f_test\n",
    "\n",
    "from Utils.UtilsScraping import *"
   ]
  },
  {
   "cell_type": "code",
   "execution_count": null,
   "metadata": {},
   "outputs": [],
   "source": [
    "it = 0"
   ]
  },
  {
   "cell_type": "code",
   "execution_count": 82,
   "metadata": {
    "scrolled": true
   },
   "outputs": [
    {
     "name": "stdout",
     "output_type": "stream",
     "text": [
      "https://steamcommunity.com/app/292030/homecontent/?userreviewsoffset=1000&p=101&workshopitemspage=101&readytouseitemspage=101&mtxitemspage=101&itemspage=101&screenshotspage=101&videospage=101&artpage=101&allguidepage=101&webguidepage=101&integratedguidepage=101&discussionspage=101&numperpage=10&browsefilter=mostrecent&appid=292030&l=english&appHubSubSection=10&filterLanguage=default&searchText=&forceanon=1\n",
      "Number of cards :  10\n",
      "https://steamcommunity.com/app/292030/homecontent/?userreviewsoffset=1010&p=102&workshopitemspage=102&readytouseitemspage=102&mtxitemspage=102&itemspage=102&screenshotspage=102&videospage=102&artpage=102&allguidepage=102&webguidepage=102&integratedguidepage=102&discussionspage=102&numperpage=10&browsefilter=mostrecent&appid=292030&l=english&appHubSubSection=10&filterLanguage=default&searchText=&forceanon=1\n",
      "Number of cards :  10\n",
      "https://steamcommunity.com/app/292030/homecontent/?userreviewsoffset=1020&p=103&workshopitemspage=103&readytouseitemspage=103&mtxitemspage=103&itemspage=103&screenshotspage=103&videospage=103&artpage=103&allguidepage=103&webguidepage=103&integratedguidepage=103&discussionspage=103&numperpage=10&browsefilter=mostrecent&appid=292030&l=english&appHubSubSection=10&filterLanguage=default&searchText=&forceanon=1\n",
      "Number of cards :  10\n",
      "https://steamcommunity.com/app/292030/homecontent/?userreviewsoffset=1030&p=104&workshopitemspage=104&readytouseitemspage=104&mtxitemspage=104&itemspage=104&screenshotspage=104&videospage=104&artpage=104&allguidepage=104&webguidepage=104&integratedguidepage=104&discussionspage=104&numperpage=10&browsefilter=mostrecent&appid=292030&l=english&appHubSubSection=10&filterLanguage=default&searchText=&forceanon=1\n",
      "Number of cards :  10\n",
      "https://steamcommunity.com/app/292030/homecontent/?userreviewsoffset=1040&p=105&workshopitemspage=105&readytouseitemspage=105&mtxitemspage=105&itemspage=105&screenshotspage=105&videospage=105&artpage=105&allguidepage=105&webguidepage=105&integratedguidepage=105&discussionspage=105&numperpage=10&browsefilter=mostrecent&appid=292030&l=english&appHubSubSection=10&filterLanguage=default&searchText=&forceanon=1\n",
      "Number of cards :  10\n",
      "https://steamcommunity.com/app/292030/homecontent/?userreviewsoffset=1050&p=106&workshopitemspage=106&readytouseitemspage=106&mtxitemspage=106&itemspage=106&screenshotspage=106&videospage=106&artpage=106&allguidepage=106&webguidepage=106&integratedguidepage=106&discussionspage=106&numperpage=10&browsefilter=mostrecent&appid=292030&l=english&appHubSubSection=10&filterLanguage=default&searchText=&forceanon=1\n",
      "Number of cards :  10\n",
      "https://steamcommunity.com/app/292030/homecontent/?userreviewsoffset=1060&p=107&workshopitemspage=107&readytouseitemspage=107&mtxitemspage=107&itemspage=107&screenshotspage=107&videospage=107&artpage=107&allguidepage=107&webguidepage=107&integratedguidepage=107&discussionspage=107&numperpage=10&browsefilter=mostrecent&appid=292030&l=english&appHubSubSection=10&filterLanguage=default&searchText=&forceanon=1\n",
      "Number of cards :  10\n",
      "https://steamcommunity.com/app/292030/homecontent/?userreviewsoffset=1070&p=108&workshopitemspage=108&readytouseitemspage=108&mtxitemspage=108&itemspage=108&screenshotspage=108&videospage=108&artpage=108&allguidepage=108&webguidepage=108&integratedguidepage=108&discussionspage=108&numperpage=10&browsefilter=mostrecent&appid=292030&l=english&appHubSubSection=10&filterLanguage=default&searchText=&forceanon=1\n",
      "Number of cards :  10\n",
      "https://steamcommunity.com/app/292030/homecontent/?userreviewsoffset=1080&p=109&workshopitemspage=109&readytouseitemspage=109&mtxitemspage=109&itemspage=109&screenshotspage=109&videospage=109&artpage=109&allguidepage=109&webguidepage=109&integratedguidepage=109&discussionspage=109&numperpage=10&browsefilter=mostrecent&appid=292030&l=english&appHubSubSection=10&filterLanguage=default&searchText=&forceanon=1\n",
      "Number of cards :  10\n",
      "https://steamcommunity.com/app/292030/homecontent/?userreviewsoffset=1090&p=110&workshopitemspage=110&readytouseitemspage=110&mtxitemspage=110&itemspage=110&screenshotspage=110&videospage=110&artpage=110&allguidepage=110&webguidepage=110&integratedguidepage=110&discussionspage=110&numperpage=10&browsefilter=mostrecent&appid=292030&l=english&appHubSubSection=10&filterLanguage=default&searchText=&forceanon=1\n",
      "Number of cards :  10\n",
      "https://steamcommunity.com/app/292030/homecontent/?userreviewsoffset=1100&p=111&workshopitemspage=111&readytouseitemspage=111&mtxitemspage=111&itemspage=111&screenshotspage=111&videospage=111&artpage=111&allguidepage=111&webguidepage=111&integratedguidepage=111&discussionspage=111&numperpage=10&browsefilter=mostrecent&appid=292030&l=english&appHubSubSection=10&filterLanguage=default&searchText=&forceanon=1\n",
      "Number of cards :  10\n",
      "https://steamcommunity.com/app/292030/homecontent/?userreviewsoffset=1110&p=112&workshopitemspage=112&readytouseitemspage=112&mtxitemspage=112&itemspage=112&screenshotspage=112&videospage=112&artpage=112&allguidepage=112&webguidepage=112&integratedguidepage=112&discussionspage=112&numperpage=10&browsefilter=mostrecent&appid=292030&l=english&appHubSubSection=10&filterLanguage=default&searchText=&forceanon=1\n",
      "Number of cards :  10\n",
      "https://steamcommunity.com/app/292030/homecontent/?userreviewsoffset=1120&p=113&workshopitemspage=113&readytouseitemspage=113&mtxitemspage=113&itemspage=113&screenshotspage=113&videospage=113&artpage=113&allguidepage=113&webguidepage=113&integratedguidepage=113&discussionspage=113&numperpage=10&browsefilter=mostrecent&appid=292030&l=english&appHubSubSection=10&filterLanguage=default&searchText=&forceanon=1\n",
      "Number of cards :  10\n",
      "https://steamcommunity.com/app/292030/homecontent/?userreviewsoffset=1130&p=114&workshopitemspage=114&readytouseitemspage=114&mtxitemspage=114&itemspage=114&screenshotspage=114&videospage=114&artpage=114&allguidepage=114&webguidepage=114&integratedguidepage=114&discussionspage=114&numperpage=10&browsefilter=mostrecent&appid=292030&l=english&appHubSubSection=10&filterLanguage=default&searchText=&forceanon=1\n",
      "Number of cards :  10\n",
      "https://steamcommunity.com/app/292030/homecontent/?userreviewsoffset=1140&p=115&workshopitemspage=115&readytouseitemspage=115&mtxitemspage=115&itemspage=115&screenshotspage=115&videospage=115&artpage=115&allguidepage=115&webguidepage=115&integratedguidepage=115&discussionspage=115&numperpage=10&browsefilter=mostrecent&appid=292030&l=english&appHubSubSection=10&filterLanguage=default&searchText=&forceanon=1\n",
      "Number of cards :  10\n",
      "https://steamcommunity.com/app/292030/homecontent/?userreviewsoffset=1150&p=116&workshopitemspage=116&readytouseitemspage=116&mtxitemspage=116&itemspage=116&screenshotspage=116&videospage=116&artpage=116&allguidepage=116&webguidepage=116&integratedguidepage=116&discussionspage=116&numperpage=10&browsefilter=mostrecent&appid=292030&l=english&appHubSubSection=10&filterLanguage=default&searchText=&forceanon=1\n",
      "Number of cards :  10\n",
      "https://steamcommunity.com/app/292030/homecontent/?userreviewsoffset=1160&p=117&workshopitemspage=117&readytouseitemspage=117&mtxitemspage=117&itemspage=117&screenshotspage=117&videospage=117&artpage=117&allguidepage=117&webguidepage=117&integratedguidepage=117&discussionspage=117&numperpage=10&browsefilter=mostrecent&appid=292030&l=english&appHubSubSection=10&filterLanguage=default&searchText=&forceanon=1\n",
      "Number of cards :  10\n",
      "https://steamcommunity.com/app/292030/homecontent/?userreviewsoffset=1170&p=118&workshopitemspage=118&readytouseitemspage=118&mtxitemspage=118&itemspage=118&screenshotspage=118&videospage=118&artpage=118&allguidepage=118&webguidepage=118&integratedguidepage=118&discussionspage=118&numperpage=10&browsefilter=mostrecent&appid=292030&l=english&appHubSubSection=10&filterLanguage=default&searchText=&forceanon=1\n",
      "Number of cards :  10\n",
      "https://steamcommunity.com/app/292030/homecontent/?userreviewsoffset=1180&p=119&workshopitemspage=119&readytouseitemspage=119&mtxitemspage=119&itemspage=119&screenshotspage=119&videospage=119&artpage=119&allguidepage=119&webguidepage=119&integratedguidepage=119&discussionspage=119&numperpage=10&browsefilter=mostrecent&appid=292030&l=english&appHubSubSection=10&filterLanguage=default&searchText=&forceanon=1\n",
      "Number of cards :  10\n"
     ]
    },
    {
     "name": "stdout",
     "output_type": "stream",
     "text": [
      "https://steamcommunity.com/app/292030/homecontent/?userreviewsoffset=1190&p=120&workshopitemspage=120&readytouseitemspage=120&mtxitemspage=120&itemspage=120&screenshotspage=120&videospage=120&artpage=120&allguidepage=120&webguidepage=120&integratedguidepage=120&discussionspage=120&numperpage=10&browsefilter=mostrecent&appid=292030&l=english&appHubSubSection=10&filterLanguage=default&searchText=&forceanon=1\n",
      "Number of cards :  10\n",
      "https://steamcommunity.com/app/292030/homecontent/?userreviewsoffset=1200&p=121&workshopitemspage=121&readytouseitemspage=121&mtxitemspage=121&itemspage=121&screenshotspage=121&videospage=121&artpage=121&allguidepage=121&webguidepage=121&integratedguidepage=121&discussionspage=121&numperpage=10&browsefilter=mostrecent&appid=292030&l=english&appHubSubSection=10&filterLanguage=default&searchText=&forceanon=1\n",
      "Number of cards :  10\n",
      "https://steamcommunity.com/app/292030/homecontent/?userreviewsoffset=1210&p=122&workshopitemspage=122&readytouseitemspage=122&mtxitemspage=122&itemspage=122&screenshotspage=122&videospage=122&artpage=122&allguidepage=122&webguidepage=122&integratedguidepage=122&discussionspage=122&numperpage=10&browsefilter=mostrecent&appid=292030&l=english&appHubSubSection=10&filterLanguage=default&searchText=&forceanon=1\n",
      "Number of cards :  10\n",
      "https://steamcommunity.com/app/292030/homecontent/?userreviewsoffset=1220&p=123&workshopitemspage=123&readytouseitemspage=123&mtxitemspage=123&itemspage=123&screenshotspage=123&videospage=123&artpage=123&allguidepage=123&webguidepage=123&integratedguidepage=123&discussionspage=123&numperpage=10&browsefilter=mostrecent&appid=292030&l=english&appHubSubSection=10&filterLanguage=default&searchText=&forceanon=1\n",
      "Number of cards :  10\n",
      "https://steamcommunity.com/app/292030/homecontent/?userreviewsoffset=1230&p=124&workshopitemspage=124&readytouseitemspage=124&mtxitemspage=124&itemspage=124&screenshotspage=124&videospage=124&artpage=124&allguidepage=124&webguidepage=124&integratedguidepage=124&discussionspage=124&numperpage=10&browsefilter=mostrecent&appid=292030&l=english&appHubSubSection=10&filterLanguage=default&searchText=&forceanon=1\n",
      "Number of cards :  10\n",
      "https://steamcommunity.com/app/292030/homecontent/?userreviewsoffset=1240&p=125&workshopitemspage=125&readytouseitemspage=125&mtxitemspage=125&itemspage=125&screenshotspage=125&videospage=125&artpage=125&allguidepage=125&webguidepage=125&integratedguidepage=125&discussionspage=125&numperpage=10&browsefilter=mostrecent&appid=292030&l=english&appHubSubSection=10&filterLanguage=default&searchText=&forceanon=1\n",
      "Number of cards :  10\n",
      "https://steamcommunity.com/app/292030/homecontent/?userreviewsoffset=1250&p=126&workshopitemspage=126&readytouseitemspage=126&mtxitemspage=126&itemspage=126&screenshotspage=126&videospage=126&artpage=126&allguidepage=126&webguidepage=126&integratedguidepage=126&discussionspage=126&numperpage=10&browsefilter=mostrecent&appid=292030&l=english&appHubSubSection=10&filterLanguage=default&searchText=&forceanon=1\n",
      "Number of cards :  10\n",
      "https://steamcommunity.com/app/292030/homecontent/?userreviewsoffset=1260&p=127&workshopitemspage=127&readytouseitemspage=127&mtxitemspage=127&itemspage=127&screenshotspage=127&videospage=127&artpage=127&allguidepage=127&webguidepage=127&integratedguidepage=127&discussionspage=127&numperpage=10&browsefilter=mostrecent&appid=292030&l=english&appHubSubSection=10&filterLanguage=default&searchText=&forceanon=1\n",
      "Number of cards :  10\n",
      "https://steamcommunity.com/app/292030/homecontent/?userreviewsoffset=1270&p=128&workshopitemspage=128&readytouseitemspage=128&mtxitemspage=128&itemspage=128&screenshotspage=128&videospage=128&artpage=128&allguidepage=128&webguidepage=128&integratedguidepage=128&discussionspage=128&numperpage=10&browsefilter=mostrecent&appid=292030&l=english&appHubSubSection=10&filterLanguage=default&searchText=&forceanon=1\n",
      "Number of cards :  10\n",
      "https://steamcommunity.com/app/292030/homecontent/?userreviewsoffset=1280&p=129&workshopitemspage=129&readytouseitemspage=129&mtxitemspage=129&itemspage=129&screenshotspage=129&videospage=129&artpage=129&allguidepage=129&webguidepage=129&integratedguidepage=129&discussionspage=129&numperpage=10&browsefilter=mostrecent&appid=292030&l=english&appHubSubSection=10&filterLanguage=default&searchText=&forceanon=1\n",
      "Number of cards :  10\n",
      "https://steamcommunity.com/app/292030/homecontent/?userreviewsoffset=1290&p=130&workshopitemspage=130&readytouseitemspage=130&mtxitemspage=130&itemspage=130&screenshotspage=130&videospage=130&artpage=130&allguidepage=130&webguidepage=130&integratedguidepage=130&discussionspage=130&numperpage=10&browsefilter=mostrecent&appid=292030&l=english&appHubSubSection=10&filterLanguage=default&searchText=&forceanon=1\n",
      "Number of cards :  10\n",
      "https://steamcommunity.com/app/292030/homecontent/?userreviewsoffset=1300&p=131&workshopitemspage=131&readytouseitemspage=131&mtxitemspage=131&itemspage=131&screenshotspage=131&videospage=131&artpage=131&allguidepage=131&webguidepage=131&integratedguidepage=131&discussionspage=131&numperpage=10&browsefilter=mostrecent&appid=292030&l=english&appHubSubSection=10&filterLanguage=default&searchText=&forceanon=1\n",
      "Number of cards :  10\n",
      "https://steamcommunity.com/app/292030/homecontent/?userreviewsoffset=1310&p=132&workshopitemspage=132&readytouseitemspage=132&mtxitemspage=132&itemspage=132&screenshotspage=132&videospage=132&artpage=132&allguidepage=132&webguidepage=132&integratedguidepage=132&discussionspage=132&numperpage=10&browsefilter=mostrecent&appid=292030&l=english&appHubSubSection=10&filterLanguage=default&searchText=&forceanon=1\n",
      "Number of cards :  10\n",
      "https://steamcommunity.com/app/292030/homecontent/?userreviewsoffset=1320&p=133&workshopitemspage=133&readytouseitemspage=133&mtxitemspage=133&itemspage=133&screenshotspage=133&videospage=133&artpage=133&allguidepage=133&webguidepage=133&integratedguidepage=133&discussionspage=133&numperpage=10&browsefilter=mostrecent&appid=292030&l=english&appHubSubSection=10&filterLanguage=default&searchText=&forceanon=1\n",
      "Number of cards :  10\n",
      "https://steamcommunity.com/app/292030/homecontent/?userreviewsoffset=1330&p=134&workshopitemspage=134&readytouseitemspage=134&mtxitemspage=134&itemspage=134&screenshotspage=134&videospage=134&artpage=134&allguidepage=134&webguidepage=134&integratedguidepage=134&discussionspage=134&numperpage=10&browsefilter=mostrecent&appid=292030&l=english&appHubSubSection=10&filterLanguage=default&searchText=&forceanon=1\n",
      "Number of cards :  10\n",
      "https://steamcommunity.com/app/292030/homecontent/?userreviewsoffset=1340&p=135&workshopitemspage=135&readytouseitemspage=135&mtxitemspage=135&itemspage=135&screenshotspage=135&videospage=135&artpage=135&allguidepage=135&webguidepage=135&integratedguidepage=135&discussionspage=135&numperpage=10&browsefilter=mostrecent&appid=292030&l=english&appHubSubSection=10&filterLanguage=default&searchText=&forceanon=1\n",
      "Number of cards :  10\n",
      "https://steamcommunity.com/app/292030/homecontent/?userreviewsoffset=1350&p=136&workshopitemspage=136&readytouseitemspage=136&mtxitemspage=136&itemspage=136&screenshotspage=136&videospage=136&artpage=136&allguidepage=136&webguidepage=136&integratedguidepage=136&discussionspage=136&numperpage=10&browsefilter=mostrecent&appid=292030&l=english&appHubSubSection=10&filterLanguage=default&searchText=&forceanon=1\n",
      "Number of cards :  10\n",
      "https://steamcommunity.com/app/292030/homecontent/?userreviewsoffset=1360&p=137&workshopitemspage=137&readytouseitemspage=137&mtxitemspage=137&itemspage=137&screenshotspage=137&videospage=137&artpage=137&allguidepage=137&webguidepage=137&integratedguidepage=137&discussionspage=137&numperpage=10&browsefilter=mostrecent&appid=292030&l=english&appHubSubSection=10&filterLanguage=default&searchText=&forceanon=1\n",
      "Number of cards :  10\n",
      "https://steamcommunity.com/app/292030/homecontent/?userreviewsoffset=1370&p=138&workshopitemspage=138&readytouseitemspage=138&mtxitemspage=138&itemspage=138&screenshotspage=138&videospage=138&artpage=138&allguidepage=138&webguidepage=138&integratedguidepage=138&discussionspage=138&numperpage=10&browsefilter=mostrecent&appid=292030&l=english&appHubSubSection=10&filterLanguage=default&searchText=&forceanon=1\n",
      "Number of cards :  10\n"
     ]
    },
    {
     "name": "stdout",
     "output_type": "stream",
     "text": [
      "https://steamcommunity.com/app/292030/homecontent/?userreviewsoffset=1380&p=139&workshopitemspage=139&readytouseitemspage=139&mtxitemspage=139&itemspage=139&screenshotspage=139&videospage=139&artpage=139&allguidepage=139&webguidepage=139&integratedguidepage=139&discussionspage=139&numperpage=10&browsefilter=mostrecent&appid=292030&l=english&appHubSubSection=10&filterLanguage=default&searchText=&forceanon=1\n",
      "Number of cards :  10\n",
      "https://steamcommunity.com/app/292030/homecontent/?userreviewsoffset=1390&p=140&workshopitemspage=140&readytouseitemspage=140&mtxitemspage=140&itemspage=140&screenshotspage=140&videospage=140&artpage=140&allguidepage=140&webguidepage=140&integratedguidepage=140&discussionspage=140&numperpage=10&browsefilter=mostrecent&appid=292030&l=english&appHubSubSection=10&filterLanguage=default&searchText=&forceanon=1\n",
      "Number of cards :  10\n",
      "https://steamcommunity.com/app/292030/homecontent/?userreviewsoffset=1400&p=141&workshopitemspage=141&readytouseitemspage=141&mtxitemspage=141&itemspage=141&screenshotspage=141&videospage=141&artpage=141&allguidepage=141&webguidepage=141&integratedguidepage=141&discussionspage=141&numperpage=10&browsefilter=mostrecent&appid=292030&l=english&appHubSubSection=10&filterLanguage=default&searchText=&forceanon=1\n",
      "Number of cards :  10\n",
      "https://steamcommunity.com/app/292030/homecontent/?userreviewsoffset=1410&p=142&workshopitemspage=142&readytouseitemspage=142&mtxitemspage=142&itemspage=142&screenshotspage=142&videospage=142&artpage=142&allguidepage=142&webguidepage=142&integratedguidepage=142&discussionspage=142&numperpage=10&browsefilter=mostrecent&appid=292030&l=english&appHubSubSection=10&filterLanguage=default&searchText=&forceanon=1\n",
      "Number of cards :  10\n",
      "https://steamcommunity.com/app/292030/homecontent/?userreviewsoffset=1420&p=143&workshopitemspage=143&readytouseitemspage=143&mtxitemspage=143&itemspage=143&screenshotspage=143&videospage=143&artpage=143&allguidepage=143&webguidepage=143&integratedguidepage=143&discussionspage=143&numperpage=10&browsefilter=mostrecent&appid=292030&l=english&appHubSubSection=10&filterLanguage=default&searchText=&forceanon=1\n",
      "Number of cards :  10\n",
      "https://steamcommunity.com/app/292030/homecontent/?userreviewsoffset=1430&p=144&workshopitemspage=144&readytouseitemspage=144&mtxitemspage=144&itemspage=144&screenshotspage=144&videospage=144&artpage=144&allguidepage=144&webguidepage=144&integratedguidepage=144&discussionspage=144&numperpage=10&browsefilter=mostrecent&appid=292030&l=english&appHubSubSection=10&filterLanguage=default&searchText=&forceanon=1\n",
      "Number of cards :  10\n",
      "https://steamcommunity.com/app/292030/homecontent/?userreviewsoffset=1440&p=145&workshopitemspage=145&readytouseitemspage=145&mtxitemspage=145&itemspage=145&screenshotspage=145&videospage=145&artpage=145&allguidepage=145&webguidepage=145&integratedguidepage=145&discussionspage=145&numperpage=10&browsefilter=mostrecent&appid=292030&l=english&appHubSubSection=10&filterLanguage=default&searchText=&forceanon=1\n",
      "Number of cards :  10\n",
      "https://steamcommunity.com/app/292030/homecontent/?userreviewsoffset=1450&p=146&workshopitemspage=146&readytouseitemspage=146&mtxitemspage=146&itemspage=146&screenshotspage=146&videospage=146&artpage=146&allguidepage=146&webguidepage=146&integratedguidepage=146&discussionspage=146&numperpage=10&browsefilter=mostrecent&appid=292030&l=english&appHubSubSection=10&filterLanguage=default&searchText=&forceanon=1\n",
      "Number of cards :  10\n",
      "https://steamcommunity.com/app/292030/homecontent/?userreviewsoffset=1460&p=147&workshopitemspage=147&readytouseitemspage=147&mtxitemspage=147&itemspage=147&screenshotspage=147&videospage=147&artpage=147&allguidepage=147&webguidepage=147&integratedguidepage=147&discussionspage=147&numperpage=10&browsefilter=mostrecent&appid=292030&l=english&appHubSubSection=10&filterLanguage=default&searchText=&forceanon=1\n",
      "Number of cards :  10\n",
      "https://steamcommunity.com/app/292030/homecontent/?userreviewsoffset=1470&p=148&workshopitemspage=148&readytouseitemspage=148&mtxitemspage=148&itemspage=148&screenshotspage=148&videospage=148&artpage=148&allguidepage=148&webguidepage=148&integratedguidepage=148&discussionspage=148&numperpage=10&browsefilter=mostrecent&appid=292030&l=english&appHubSubSection=10&filterLanguage=default&searchText=&forceanon=1\n",
      "Number of cards :  10\n",
      "https://steamcommunity.com/app/292030/homecontent/?userreviewsoffset=1480&p=149&workshopitemspage=149&readytouseitemspage=149&mtxitemspage=149&itemspage=149&screenshotspage=149&videospage=149&artpage=149&allguidepage=149&webguidepage=149&integratedguidepage=149&discussionspage=149&numperpage=10&browsefilter=mostrecent&appid=292030&l=english&appHubSubSection=10&filterLanguage=default&searchText=&forceanon=1\n",
      "Number of cards :  10\n",
      "https://steamcommunity.com/app/292030/homecontent/?userreviewsoffset=1490&p=150&workshopitemspage=150&readytouseitemspage=150&mtxitemspage=150&itemspage=150&screenshotspage=150&videospage=150&artpage=150&allguidepage=150&webguidepage=150&integratedguidepage=150&discussionspage=150&numperpage=10&browsefilter=mostrecent&appid=292030&l=english&appHubSubSection=10&filterLanguage=default&searchText=&forceanon=1\n",
      "Number of cards :  10\n",
      "https://steamcommunity.com/app/292030/homecontent/?userreviewsoffset=1500&p=151&workshopitemspage=151&readytouseitemspage=151&mtxitemspage=151&itemspage=151&screenshotspage=151&videospage=151&artpage=151&allguidepage=151&webguidepage=151&integratedguidepage=151&discussionspage=151&numperpage=10&browsefilter=mostrecent&appid=292030&l=english&appHubSubSection=10&filterLanguage=default&searchText=&forceanon=1\n",
      "Number of cards :  10\n",
      "https://steamcommunity.com/app/292030/homecontent/?userreviewsoffset=1510&p=152&workshopitemspage=152&readytouseitemspage=152&mtxitemspage=152&itemspage=152&screenshotspage=152&videospage=152&artpage=152&allguidepage=152&webguidepage=152&integratedguidepage=152&discussionspage=152&numperpage=10&browsefilter=mostrecent&appid=292030&l=english&appHubSubSection=10&filterLanguage=default&searchText=&forceanon=1\n",
      "Number of cards :  10\n",
      "https://steamcommunity.com/app/292030/homecontent/?userreviewsoffset=1520&p=153&workshopitemspage=153&readytouseitemspage=153&mtxitemspage=153&itemspage=153&screenshotspage=153&videospage=153&artpage=153&allguidepage=153&webguidepage=153&integratedguidepage=153&discussionspage=153&numperpage=10&browsefilter=mostrecent&appid=292030&l=english&appHubSubSection=10&filterLanguage=default&searchText=&forceanon=1\n",
      "Number of cards :  10\n",
      "https://steamcommunity.com/app/292030/homecontent/?userreviewsoffset=1530&p=154&workshopitemspage=154&readytouseitemspage=154&mtxitemspage=154&itemspage=154&screenshotspage=154&videospage=154&artpage=154&allguidepage=154&webguidepage=154&integratedguidepage=154&discussionspage=154&numperpage=10&browsefilter=mostrecent&appid=292030&l=english&appHubSubSection=10&filterLanguage=default&searchText=&forceanon=1\n",
      "Number of cards :  10\n",
      "https://steamcommunity.com/app/292030/homecontent/?userreviewsoffset=1540&p=155&workshopitemspage=155&readytouseitemspage=155&mtxitemspage=155&itemspage=155&screenshotspage=155&videospage=155&artpage=155&allguidepage=155&webguidepage=155&integratedguidepage=155&discussionspage=155&numperpage=10&browsefilter=mostrecent&appid=292030&l=english&appHubSubSection=10&filterLanguage=default&searchText=&forceanon=1\n",
      "Number of cards :  10\n",
      "https://steamcommunity.com/app/292030/homecontent/?userreviewsoffset=1550&p=156&workshopitemspage=156&readytouseitemspage=156&mtxitemspage=156&itemspage=156&screenshotspage=156&videospage=156&artpage=156&allguidepage=156&webguidepage=156&integratedguidepage=156&discussionspage=156&numperpage=10&browsefilter=mostrecent&appid=292030&l=english&appHubSubSection=10&filterLanguage=default&searchText=&forceanon=1\n",
      "Number of cards :  10\n",
      "https://steamcommunity.com/app/292030/homecontent/?userreviewsoffset=1560&p=157&workshopitemspage=157&readytouseitemspage=157&mtxitemspage=157&itemspage=157&screenshotspage=157&videospage=157&artpage=157&allguidepage=157&webguidepage=157&integratedguidepage=157&discussionspage=157&numperpage=10&browsefilter=mostrecent&appid=292030&l=english&appHubSubSection=10&filterLanguage=default&searchText=&forceanon=1\n",
      "Number of cards :  10\n"
     ]
    },
    {
     "name": "stdout",
     "output_type": "stream",
     "text": [
      "https://steamcommunity.com/app/292030/homecontent/?userreviewsoffset=1570&p=158&workshopitemspage=158&readytouseitemspage=158&mtxitemspage=158&itemspage=158&screenshotspage=158&videospage=158&artpage=158&allguidepage=158&webguidepage=158&integratedguidepage=158&discussionspage=158&numperpage=10&browsefilter=mostrecent&appid=292030&l=english&appHubSubSection=10&filterLanguage=default&searchText=&forceanon=1\n",
      "Number of cards :  10\n",
      "https://steamcommunity.com/app/292030/homecontent/?userreviewsoffset=1580&p=159&workshopitemspage=159&readytouseitemspage=159&mtxitemspage=159&itemspage=159&screenshotspage=159&videospage=159&artpage=159&allguidepage=159&webguidepage=159&integratedguidepage=159&discussionspage=159&numperpage=10&browsefilter=mostrecent&appid=292030&l=english&appHubSubSection=10&filterLanguage=default&searchText=&forceanon=1\n",
      "Number of cards :  10\n",
      "https://steamcommunity.com/app/292030/homecontent/?userreviewsoffset=1590&p=160&workshopitemspage=160&readytouseitemspage=160&mtxitemspage=160&itemspage=160&screenshotspage=160&videospage=160&artpage=160&allguidepage=160&webguidepage=160&integratedguidepage=160&discussionspage=160&numperpage=10&browsefilter=mostrecent&appid=292030&l=english&appHubSubSection=10&filterLanguage=default&searchText=&forceanon=1\n",
      "Number of cards :  10\n",
      "https://steamcommunity.com/app/292030/homecontent/?userreviewsoffset=1600&p=161&workshopitemspage=161&readytouseitemspage=161&mtxitemspage=161&itemspage=161&screenshotspage=161&videospage=161&artpage=161&allguidepage=161&webguidepage=161&integratedguidepage=161&discussionspage=161&numperpage=10&browsefilter=mostrecent&appid=292030&l=english&appHubSubSection=10&filterLanguage=default&searchText=&forceanon=1\n",
      "Number of cards :  10\n",
      "https://steamcommunity.com/app/292030/homecontent/?userreviewsoffset=1610&p=162&workshopitemspage=162&readytouseitemspage=162&mtxitemspage=162&itemspage=162&screenshotspage=162&videospage=162&artpage=162&allguidepage=162&webguidepage=162&integratedguidepage=162&discussionspage=162&numperpage=10&browsefilter=mostrecent&appid=292030&l=english&appHubSubSection=10&filterLanguage=default&searchText=&forceanon=1\n",
      "Number of cards :  10\n",
      "https://steamcommunity.com/app/292030/homecontent/?userreviewsoffset=1620&p=163&workshopitemspage=163&readytouseitemspage=163&mtxitemspage=163&itemspage=163&screenshotspage=163&videospage=163&artpage=163&allguidepage=163&webguidepage=163&integratedguidepage=163&discussionspage=163&numperpage=10&browsefilter=mostrecent&appid=292030&l=english&appHubSubSection=10&filterLanguage=default&searchText=&forceanon=1\n",
      "Number of cards :  10\n",
      "https://steamcommunity.com/app/292030/homecontent/?userreviewsoffset=1630&p=164&workshopitemspage=164&readytouseitemspage=164&mtxitemspage=164&itemspage=164&screenshotspage=164&videospage=164&artpage=164&allguidepage=164&webguidepage=164&integratedguidepage=164&discussionspage=164&numperpage=10&browsefilter=mostrecent&appid=292030&l=english&appHubSubSection=10&filterLanguage=default&searchText=&forceanon=1\n",
      "Number of cards :  10\n",
      "https://steamcommunity.com/app/292030/homecontent/?userreviewsoffset=1640&p=165&workshopitemspage=165&readytouseitemspage=165&mtxitemspage=165&itemspage=165&screenshotspage=165&videospage=165&artpage=165&allguidepage=165&webguidepage=165&integratedguidepage=165&discussionspage=165&numperpage=10&browsefilter=mostrecent&appid=292030&l=english&appHubSubSection=10&filterLanguage=default&searchText=&forceanon=1\n",
      "Number of cards :  10\n",
      "https://steamcommunity.com/app/292030/homecontent/?userreviewsoffset=1650&p=166&workshopitemspage=166&readytouseitemspage=166&mtxitemspage=166&itemspage=166&screenshotspage=166&videospage=166&artpage=166&allguidepage=166&webguidepage=166&integratedguidepage=166&discussionspage=166&numperpage=10&browsefilter=mostrecent&appid=292030&l=english&appHubSubSection=10&filterLanguage=default&searchText=&forceanon=1\n",
      "Number of cards :  10\n",
      "https://steamcommunity.com/app/292030/homecontent/?userreviewsoffset=1660&p=167&workshopitemspage=167&readytouseitemspage=167&mtxitemspage=167&itemspage=167&screenshotspage=167&videospage=167&artpage=167&allguidepage=167&webguidepage=167&integratedguidepage=167&discussionspage=167&numperpage=10&browsefilter=mostrecent&appid=292030&l=english&appHubSubSection=10&filterLanguage=default&searchText=&forceanon=1\n",
      "Number of cards :  10\n",
      "https://steamcommunity.com/app/292030/homecontent/?userreviewsoffset=1670&p=168&workshopitemspage=168&readytouseitemspage=168&mtxitemspage=168&itemspage=168&screenshotspage=168&videospage=168&artpage=168&allguidepage=168&webguidepage=168&integratedguidepage=168&discussionspage=168&numperpage=10&browsefilter=mostrecent&appid=292030&l=english&appHubSubSection=10&filterLanguage=default&searchText=&forceanon=1\n",
      "Number of cards :  10\n",
      "https://steamcommunity.com/app/292030/homecontent/?userreviewsoffset=1680&p=169&workshopitemspage=169&readytouseitemspage=169&mtxitemspage=169&itemspage=169&screenshotspage=169&videospage=169&artpage=169&allguidepage=169&webguidepage=169&integratedguidepage=169&discussionspage=169&numperpage=10&browsefilter=mostrecent&appid=292030&l=english&appHubSubSection=10&filterLanguage=default&searchText=&forceanon=1\n",
      "Number of cards :  10\n",
      "https://steamcommunity.com/app/292030/homecontent/?userreviewsoffset=1690&p=170&workshopitemspage=170&readytouseitemspage=170&mtxitemspage=170&itemspage=170&screenshotspage=170&videospage=170&artpage=170&allguidepage=170&webguidepage=170&integratedguidepage=170&discussionspage=170&numperpage=10&browsefilter=mostrecent&appid=292030&l=english&appHubSubSection=10&filterLanguage=default&searchText=&forceanon=1\n",
      "Number of cards :  10\n",
      "https://steamcommunity.com/app/292030/homecontent/?userreviewsoffset=1700&p=171&workshopitemspage=171&readytouseitemspage=171&mtxitemspage=171&itemspage=171&screenshotspage=171&videospage=171&artpage=171&allguidepage=171&webguidepage=171&integratedguidepage=171&discussionspage=171&numperpage=10&browsefilter=mostrecent&appid=292030&l=english&appHubSubSection=10&filterLanguage=default&searchText=&forceanon=1\n",
      "Number of cards :  10\n",
      "https://steamcommunity.com/app/292030/homecontent/?userreviewsoffset=1710&p=172&workshopitemspage=172&readytouseitemspage=172&mtxitemspage=172&itemspage=172&screenshotspage=172&videospage=172&artpage=172&allguidepage=172&webguidepage=172&integratedguidepage=172&discussionspage=172&numperpage=10&browsefilter=mostrecent&appid=292030&l=english&appHubSubSection=10&filterLanguage=default&searchText=&forceanon=1\n",
      "Number of cards :  10\n",
      "https://steamcommunity.com/app/292030/homecontent/?userreviewsoffset=1720&p=173&workshopitemspage=173&readytouseitemspage=173&mtxitemspage=173&itemspage=173&screenshotspage=173&videospage=173&artpage=173&allguidepage=173&webguidepage=173&integratedguidepage=173&discussionspage=173&numperpage=10&browsefilter=mostrecent&appid=292030&l=english&appHubSubSection=10&filterLanguage=default&searchText=&forceanon=1\n",
      "Number of cards :  10\n",
      "https://steamcommunity.com/app/292030/homecontent/?userreviewsoffset=1730&p=174&workshopitemspage=174&readytouseitemspage=174&mtxitemspage=174&itemspage=174&screenshotspage=174&videospage=174&artpage=174&allguidepage=174&webguidepage=174&integratedguidepage=174&discussionspage=174&numperpage=10&browsefilter=mostrecent&appid=292030&l=english&appHubSubSection=10&filterLanguage=default&searchText=&forceanon=1\n",
      "Number of cards :  10\n",
      "https://steamcommunity.com/app/292030/homecontent/?userreviewsoffset=1740&p=175&workshopitemspage=175&readytouseitemspage=175&mtxitemspage=175&itemspage=175&screenshotspage=175&videospage=175&artpage=175&allguidepage=175&webguidepage=175&integratedguidepage=175&discussionspage=175&numperpage=10&browsefilter=mostrecent&appid=292030&l=english&appHubSubSection=10&filterLanguage=default&searchText=&forceanon=1\n",
      "Number of cards :  10\n",
      "https://steamcommunity.com/app/292030/homecontent/?userreviewsoffset=1750&p=176&workshopitemspage=176&readytouseitemspage=176&mtxitemspage=176&itemspage=176&screenshotspage=176&videospage=176&artpage=176&allguidepage=176&webguidepage=176&integratedguidepage=176&discussionspage=176&numperpage=10&browsefilter=mostrecent&appid=292030&l=english&appHubSubSection=10&filterLanguage=default&searchText=&forceanon=1\n",
      "Number of cards :  10\n"
     ]
    },
    {
     "name": "stdout",
     "output_type": "stream",
     "text": [
      "https://steamcommunity.com/app/292030/homecontent/?userreviewsoffset=1760&p=177&workshopitemspage=177&readytouseitemspage=177&mtxitemspage=177&itemspage=177&screenshotspage=177&videospage=177&artpage=177&allguidepage=177&webguidepage=177&integratedguidepage=177&discussionspage=177&numperpage=10&browsefilter=mostrecent&appid=292030&l=english&appHubSubSection=10&filterLanguage=default&searchText=&forceanon=1\n",
      "Number of cards :  10\n",
      "https://steamcommunity.com/app/292030/homecontent/?userreviewsoffset=1770&p=178&workshopitemspage=178&readytouseitemspage=178&mtxitemspage=178&itemspage=178&screenshotspage=178&videospage=178&artpage=178&allguidepage=178&webguidepage=178&integratedguidepage=178&discussionspage=178&numperpage=10&browsefilter=mostrecent&appid=292030&l=english&appHubSubSection=10&filterLanguage=default&searchText=&forceanon=1\n",
      "Number of cards :  10\n",
      "https://steamcommunity.com/app/292030/homecontent/?userreviewsoffset=1780&p=179&workshopitemspage=179&readytouseitemspage=179&mtxitemspage=179&itemspage=179&screenshotspage=179&videospage=179&artpage=179&allguidepage=179&webguidepage=179&integratedguidepage=179&discussionspage=179&numperpage=10&browsefilter=mostrecent&appid=292030&l=english&appHubSubSection=10&filterLanguage=default&searchText=&forceanon=1\n",
      "Number of cards :  10\n",
      "https://steamcommunity.com/app/292030/homecontent/?userreviewsoffset=1790&p=180&workshopitemspage=180&readytouseitemspage=180&mtxitemspage=180&itemspage=180&screenshotspage=180&videospage=180&artpage=180&allguidepage=180&webguidepage=180&integratedguidepage=180&discussionspage=180&numperpage=10&browsefilter=mostrecent&appid=292030&l=english&appHubSubSection=10&filterLanguage=default&searchText=&forceanon=1\n",
      "Number of cards :  10\n",
      "https://steamcommunity.com/app/292030/homecontent/?userreviewsoffset=1800&p=181&workshopitemspage=181&readytouseitemspage=181&mtxitemspage=181&itemspage=181&screenshotspage=181&videospage=181&artpage=181&allguidepage=181&webguidepage=181&integratedguidepage=181&discussionspage=181&numperpage=10&browsefilter=mostrecent&appid=292030&l=english&appHubSubSection=10&filterLanguage=default&searchText=&forceanon=1\n",
      "Number of cards :  10\n",
      "https://steamcommunity.com/app/292030/homecontent/?userreviewsoffset=1810&p=182&workshopitemspage=182&readytouseitemspage=182&mtxitemspage=182&itemspage=182&screenshotspage=182&videospage=182&artpage=182&allguidepage=182&webguidepage=182&integratedguidepage=182&discussionspage=182&numperpage=10&browsefilter=mostrecent&appid=292030&l=english&appHubSubSection=10&filterLanguage=default&searchText=&forceanon=1\n",
      "Number of cards :  10\n",
      "https://steamcommunity.com/app/292030/homecontent/?userreviewsoffset=1820&p=183&workshopitemspage=183&readytouseitemspage=183&mtxitemspage=183&itemspage=183&screenshotspage=183&videospage=183&artpage=183&allguidepage=183&webguidepage=183&integratedguidepage=183&discussionspage=183&numperpage=10&browsefilter=mostrecent&appid=292030&l=english&appHubSubSection=10&filterLanguage=default&searchText=&forceanon=1\n",
      "Number of cards :  10\n",
      "https://steamcommunity.com/app/292030/homecontent/?userreviewsoffset=1830&p=184&workshopitemspage=184&readytouseitemspage=184&mtxitemspage=184&itemspage=184&screenshotspage=184&videospage=184&artpage=184&allguidepage=184&webguidepage=184&integratedguidepage=184&discussionspage=184&numperpage=10&browsefilter=mostrecent&appid=292030&l=english&appHubSubSection=10&filterLanguage=default&searchText=&forceanon=1\n",
      "Number of cards :  10\n",
      "https://steamcommunity.com/app/292030/homecontent/?userreviewsoffset=1840&p=185&workshopitemspage=185&readytouseitemspage=185&mtxitemspage=185&itemspage=185&screenshotspage=185&videospage=185&artpage=185&allguidepage=185&webguidepage=185&integratedguidepage=185&discussionspage=185&numperpage=10&browsefilter=mostrecent&appid=292030&l=english&appHubSubSection=10&filterLanguage=default&searchText=&forceanon=1\n",
      "Number of cards :  10\n",
      "https://steamcommunity.com/app/292030/homecontent/?userreviewsoffset=1850&p=186&workshopitemspage=186&readytouseitemspage=186&mtxitemspage=186&itemspage=186&screenshotspage=186&videospage=186&artpage=186&allguidepage=186&webguidepage=186&integratedguidepage=186&discussionspage=186&numperpage=10&browsefilter=mostrecent&appid=292030&l=english&appHubSubSection=10&filterLanguage=default&searchText=&forceanon=1\n",
      "Number of cards :  10\n",
      "https://steamcommunity.com/app/292030/homecontent/?userreviewsoffset=1860&p=187&workshopitemspage=187&readytouseitemspage=187&mtxitemspage=187&itemspage=187&screenshotspage=187&videospage=187&artpage=187&allguidepage=187&webguidepage=187&integratedguidepage=187&discussionspage=187&numperpage=10&browsefilter=mostrecent&appid=292030&l=english&appHubSubSection=10&filterLanguage=default&searchText=&forceanon=1\n",
      "Number of cards :  10\n",
      "https://steamcommunity.com/app/292030/homecontent/?userreviewsoffset=1870&p=188&workshopitemspage=188&readytouseitemspage=188&mtxitemspage=188&itemspage=188&screenshotspage=188&videospage=188&artpage=188&allguidepage=188&webguidepage=188&integratedguidepage=188&discussionspage=188&numperpage=10&browsefilter=mostrecent&appid=292030&l=english&appHubSubSection=10&filterLanguage=default&searchText=&forceanon=1\n",
      "Number of cards :  10\n",
      "https://steamcommunity.com/app/292030/homecontent/?userreviewsoffset=1880&p=189&workshopitemspage=189&readytouseitemspage=189&mtxitemspage=189&itemspage=189&screenshotspage=189&videospage=189&artpage=189&allguidepage=189&webguidepage=189&integratedguidepage=189&discussionspage=189&numperpage=10&browsefilter=mostrecent&appid=292030&l=english&appHubSubSection=10&filterLanguage=default&searchText=&forceanon=1\n",
      "Number of cards :  10\n",
      "https://steamcommunity.com/app/292030/homecontent/?userreviewsoffset=1890&p=190&workshopitemspage=190&readytouseitemspage=190&mtxitemspage=190&itemspage=190&screenshotspage=190&videospage=190&artpage=190&allguidepage=190&webguidepage=190&integratedguidepage=190&discussionspage=190&numperpage=10&browsefilter=mostrecent&appid=292030&l=english&appHubSubSection=10&filterLanguage=default&searchText=&forceanon=1\n",
      "Number of cards :  10\n",
      "https://steamcommunity.com/app/292030/homecontent/?userreviewsoffset=1900&p=191&workshopitemspage=191&readytouseitemspage=191&mtxitemspage=191&itemspage=191&screenshotspage=191&videospage=191&artpage=191&allguidepage=191&webguidepage=191&integratedguidepage=191&discussionspage=191&numperpage=10&browsefilter=mostrecent&appid=292030&l=english&appHubSubSection=10&filterLanguage=default&searchText=&forceanon=1\n",
      "Number of cards :  10\n",
      "https://steamcommunity.com/app/292030/homecontent/?userreviewsoffset=1910&p=192&workshopitemspage=192&readytouseitemspage=192&mtxitemspage=192&itemspage=192&screenshotspage=192&videospage=192&artpage=192&allguidepage=192&webguidepage=192&integratedguidepage=192&discussionspage=192&numperpage=10&browsefilter=mostrecent&appid=292030&l=english&appHubSubSection=10&filterLanguage=default&searchText=&forceanon=1\n",
      "Number of cards :  10\n",
      "https://steamcommunity.com/app/292030/homecontent/?userreviewsoffset=1920&p=193&workshopitemspage=193&readytouseitemspage=193&mtxitemspage=193&itemspage=193&screenshotspage=193&videospage=193&artpage=193&allguidepage=193&webguidepage=193&integratedguidepage=193&discussionspage=193&numperpage=10&browsefilter=mostrecent&appid=292030&l=english&appHubSubSection=10&filterLanguage=default&searchText=&forceanon=1\n",
      "Number of cards :  10\n",
      "https://steamcommunity.com/app/292030/homecontent/?userreviewsoffset=1930&p=194&workshopitemspage=194&readytouseitemspage=194&mtxitemspage=194&itemspage=194&screenshotspage=194&videospage=194&artpage=194&allguidepage=194&webguidepage=194&integratedguidepage=194&discussionspage=194&numperpage=10&browsefilter=mostrecent&appid=292030&l=english&appHubSubSection=10&filterLanguage=default&searchText=&forceanon=1\n",
      "Number of cards :  10\n",
      "https://steamcommunity.com/app/292030/homecontent/?userreviewsoffset=1940&p=195&workshopitemspage=195&readytouseitemspage=195&mtxitemspage=195&itemspage=195&screenshotspage=195&videospage=195&artpage=195&allguidepage=195&webguidepage=195&integratedguidepage=195&discussionspage=195&numperpage=10&browsefilter=mostrecent&appid=292030&l=english&appHubSubSection=10&filterLanguage=default&searchText=&forceanon=1\n",
      "Number of cards :  10\n"
     ]
    },
    {
     "name": "stdout",
     "output_type": "stream",
     "text": [
      "https://steamcommunity.com/app/292030/homecontent/?userreviewsoffset=1950&p=196&workshopitemspage=196&readytouseitemspage=196&mtxitemspage=196&itemspage=196&screenshotspage=196&videospage=196&artpage=196&allguidepage=196&webguidepage=196&integratedguidepage=196&discussionspage=196&numperpage=10&browsefilter=mostrecent&appid=292030&l=english&appHubSubSection=10&filterLanguage=default&searchText=&forceanon=1\n",
      "Number of cards :  10\n",
      "https://steamcommunity.com/app/292030/homecontent/?userreviewsoffset=1960&p=197&workshopitemspage=197&readytouseitemspage=197&mtxitemspage=197&itemspage=197&screenshotspage=197&videospage=197&artpage=197&allguidepage=197&webguidepage=197&integratedguidepage=197&discussionspage=197&numperpage=10&browsefilter=mostrecent&appid=292030&l=english&appHubSubSection=10&filterLanguage=default&searchText=&forceanon=1\n",
      "Number of cards :  10\n",
      "https://steamcommunity.com/app/292030/homecontent/?userreviewsoffset=1970&p=198&workshopitemspage=198&readytouseitemspage=198&mtxitemspage=198&itemspage=198&screenshotspage=198&videospage=198&artpage=198&allguidepage=198&webguidepage=198&integratedguidepage=198&discussionspage=198&numperpage=10&browsefilter=mostrecent&appid=292030&l=english&appHubSubSection=10&filterLanguage=default&searchText=&forceanon=1\n",
      "Number of cards :  10\n",
      "https://steamcommunity.com/app/292030/homecontent/?userreviewsoffset=1980&p=199&workshopitemspage=199&readytouseitemspage=199&mtxitemspage=199&itemspage=199&screenshotspage=199&videospage=199&artpage=199&allguidepage=199&webguidepage=199&integratedguidepage=199&discussionspage=199&numperpage=10&browsefilter=mostrecent&appid=292030&l=english&appHubSubSection=10&filterLanguage=default&searchText=&forceanon=1\n",
      "Number of cards :  10\n",
      "https://steamcommunity.com/app/292030/homecontent/?userreviewsoffset=1990&p=200&workshopitemspage=200&readytouseitemspage=200&mtxitemspage=200&itemspage=200&screenshotspage=200&videospage=200&artpage=200&allguidepage=200&webguidepage=200&integratedguidepage=200&discussionspage=200&numperpage=10&browsefilter=mostrecent&appid=292030&l=english&appHubSubSection=10&filterLanguage=default&searchText=&forceanon=1\n",
      "Number of cards :  10\n"
     ]
    }
   ],
   "source": [
    "import time\n",
    "import re, string\n",
    "\n",
    "\n",
    "game_id = 292030\n",
    "\n",
    "page_url_header = \"https://steamcommunity.com/app/\" + str(game_id) + \"/homecontent/?\"\n",
    "\n",
    "\n",
    "page_url_params = {\n",
    "    \"userreviewsoffset\":10,\n",
    "    \"p\":1,\n",
    "    \"workshopitemspage\": 1,\n",
    "     \"readytouseitemspage\": 1,\n",
    "     \"mtxitemspage\": 1,\n",
    "     \"itemspage\": 1,\n",
    "     \"screenshotspage\": 1,\n",
    "     \"videospage\": 1,\n",
    "     \"artpage\": 1,\n",
    "     \"allguidepage\": 1,\n",
    "     \"webguidepage\": 1,\n",
    "     \"integratedguidepage\": 1,\n",
    "     \"discussionspage\": 1,\n",
    "}\n",
    "\n",
    "page_url_params_frozen = {\n",
    "    \"numperpage\": 10,\n",
    "    \"browsefilter\": \"mostrecent\",\n",
    "    \"appid\": \"292030\",\n",
    "    \"l\": \"english\",\n",
    "    \"appHubSubSection\": 10,\n",
    "    \"filterLanguage\": \"default\",\n",
    "    \"searchText\": \"\",\n",
    "    \"forceanon\": 1\n",
    "}\n",
    "\n",
    "# Make the first page URL\n",
    "page_urls = [\"https://steamcommunity.com/app/\" + str(game_id) + \"/reviews/?browsefilter=mostrecent&snr=1_5_100010_&p=1\"]\n",
    "if it > 0:\n",
    "    page_urls = []\n",
    "# Generate the remaining pages\n",
    "for page_no in range(int(0+it*100), int(100*(it+1))):\n",
    "    my_url = page_url_header\n",
    "    for k, v in page_url_params.items():\n",
    "\n",
    "        if (\"userreviewsoffset\" == k) and (page_no > 0):\n",
    "            my_url += k\n",
    "            my_url += \"=\"\n",
    "            my_url += str(v * page_no)\n",
    "            my_url += \"&\"\n",
    "            continue\n",
    "\n",
    "        my_url += k\n",
    "        my_url += \"=\"\n",
    "        my_url += str(v + page_no)\n",
    "        my_url += \"&\"\n",
    "\n",
    "    for k, v in page_url_params_frozen.items():\n",
    "        my_url += k\n",
    "        my_url += \"=\"\n",
    "        my_url += str(v)\n",
    "        my_url += \"&\"\n",
    "\n",
    "    my_url = my_url[:-1]\n",
    "\n",
    "    page_urls.append(my_url)\n",
    "\n",
    "\n",
    "all_reviews = []\n",
    "\n",
    "for my_url in page_urls:\n",
    "    print(my_url)\n",
    "    \n",
    "    page_soup = get_page_soup(my_url)\n",
    "\n",
    "    div_cards = page_soup.findAll(name=\"div\", attrs={\"class\":\"apphub_CardContentMain\"})\n",
    "    \n",
    "    print(\"Number of cards : \", len(div_cards))\n",
    "\n",
    "    for card in div_cards:\n",
    "        found_helpful = card.findAll(name=\"div\", attrs={\"class\":\"found_helpful\"})[0].text\n",
    "        found_helpful = found_helpful.strip()\n",
    "        flag_recommended = card.findAll(name=\"div\", attrs={\"class\":\"title\"})[0].text\n",
    "        playtime = card.findAll(name=\"div\", attrs={\"class\":\"hours\"})[0].text\n",
    "        date_posted = card.findAll(name=\"div\", attrs={\"class\":\"date_posted\"})[0].text\n",
    "        unclean_review = card.text\n",
    "        review = \"\"\n",
    "        for ucr in unclean_review.split(\"\\t\"):\n",
    "            if (date_posted == ucr) or (len(ucr)==0) or (found_helpful == ucr):\n",
    "                continue\n",
    "            review += ucr\n",
    "            review += \" \"\n",
    "        # Sanity check - remove trailing white space and other text elements\n",
    "        review = review.split(date_posted)[1]\n",
    "        review = review.strip()\n",
    "        all_reviews.append((date_posted, playtime, review, found_helpful, flag_recommended))\n",
    "\n",
    "    time.sleep(1)\n",
    "#     break"
   ]
  },
  {
   "cell_type": "code",
   "execution_count": 83,
   "metadata": {},
   "outputs": [
    {
     "data": {
      "text/plain": [
       "23"
      ]
     },
     "execution_count": 83,
     "metadata": {},
     "output_type": "execute_result"
    }
   ],
   "source": [
    "it"
   ]
  },
  {
   "cell_type": "code",
   "execution_count": 78,
   "metadata": {},
   "outputs": [],
   "source": [
    "reviews_df = pd.DataFrame(all_reviews)\n",
    "reviews_df.columns = [\"date_posted\", \"playtime\", \"review\", \"helpful_funny\", \"recommended\"]\n",
    "\n",
    "reviews_df.to_csv(\"./reviews_witcher3_\" + str(it) + \".csv\")\n",
    "it += 1"
   ]
  },
  {
   "cell_type": "code",
   "execution_count": 79,
   "metadata": {},
   "outputs": [
    {
     "data": {
      "text/plain": [
       "(1010, 5)"
      ]
     },
     "metadata": {},
     "output_type": "display_data"
    }
   ],
   "source": [
    "rdf = pd.read_csv(\"./reviews_witcher3_0.csv\", index_col=\"Unnamed: 0\")\n",
    "# rdf = pd.read_csv(\"./reviews_gears5.csv\", index_col=\"Unnamed: 0\")\n",
    "display(rdf.shape)"
   ]
  },
  {
   "cell_type": "markdown",
   "metadata": {},
   "source": [
    "-----------"
   ]
  },
  {
   "cell_type": "markdown",
   "metadata": {},
   "source": [
    "-----------"
   ]
  },
  {
   "cell_type": "markdown",
   "metadata": {},
   "source": [
    "-----------"
   ]
  }
 ],
 "metadata": {
  "kernelspec": {
   "display_name": "Python 3",
   "language": "python",
   "name": "python3"
  },
  "language_info": {
   "codemirror_mode": {
    "name": "ipython",
    "version": 3
   },
   "file_extension": ".py",
   "mimetype": "text/x-python",
   "name": "python",
   "nbconvert_exporter": "python",
   "pygments_lexer": "ipython3",
   "version": "3.6.7"
  }
 },
 "nbformat": 4,
 "nbformat_minor": 2
}
