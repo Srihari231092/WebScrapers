{
 "cells": [
  {
   "cell_type": "code",
   "execution_count": 1,
   "metadata": {},
   "outputs": [
    {
     "data": {
      "text/html": [
       "<style>.container { width:100% !important; }</style>"
      ],
      "text/plain": [
       "<IPython.core.display.HTML object>"
      ]
     },
     "metadata": {},
     "output_type": "display_data"
    }
   ],
   "source": [
    "# Put these at the top of every notebook, to get automatic reloading and inline plotting\n",
    "import pandas as pd\n",
    "from IPython.core.display import display, HTML\n",
    "import matplotlib.pyplot as plt\n",
    "import warnings\n",
    "warnings.filterwarnings('ignore')\n",
    "\n",
    "%reload_ext autoreload\n",
    "%autoreload 1\n",
    "\n",
    "pd.set_option('display.max_rows', 800)\n",
    "pd.set_option('display.max_columns', 500)\n",
    "pd.set_option('display.width', 1000)\n",
    "pd.set_option('display.max_colwidth', 100)\n",
    "\n",
    "display(HTML(\"<style>.container { width:100% !important; }</style>\"))\n",
    "\n",
    "import warnings\n",
    "warnings.filterwarnings('ignore')\n",
    "\n",
    "import os, glob\n",
    "import pandas as pd\n",
    "import numpy as np\n",
    "from scipy.spatial.distance import cdist, euclidean\n",
    "from scipy import stats\n",
    "import sklearn\n",
    "import matplotlib.pyplot as plt\n",
    "import seaborn as sns\n",
    "sns.set(style='whitegrid')\n",
    "\n",
    "import statsmodels.formula.api as smfapi\n",
    "import statsmodels.api as smapi\n",
    "from sklearn.preprocessing import StandardScaler\n",
    "from sklearn.model_selection import train_test_split\n",
    "\n",
    "from sklearn.model_selection import cross_val_score\n",
    "from sklearn.metrics import mean_squared_error as MSE\n",
    "\n",
    "from scipy.stats import f as f_test\n",
    "\n",
    "from Utils.UtilsScraping import *"
   ]
  },
  {
   "cell_type": "code",
   "execution_count": 95,
   "metadata": {},
   "outputs": [
    {
     "data": {
      "text/plain": [
       "3"
      ]
     },
     "execution_count": 95,
     "metadata": {},
     "output_type": "execute_result"
    }
   ],
   "source": [
    "it"
   ]
  },
  {
   "cell_type": "code",
   "execution_count": 96,
   "metadata": {
    "scrolled": true
   },
   "outputs": [
    {
     "name": "stdout",
     "output_type": "stream",
     "text": [
      "https://steamcommunity.com/app/292030/homecontent/?userreviewsoffset=3000&p=301&workshopitemspage=301&readytouseitemspage=301&mtxitemspage=301&itemspage=301&screenshotspage=301&videospage=301&artpage=301&allguidepage=301&webguidepage=301&integratedguidepage=301&discussionspage=301&numperpage=10&browsefilter=mostrecent&appid=292030&l=english&appHubSubSection=10&filterLanguage=default&searchText=&forceanon=1\n",
      "Number of cards :  10\n",
      "https://steamcommunity.com/app/292030/homecontent/?userreviewsoffset=3010&p=302&workshopitemspage=302&readytouseitemspage=302&mtxitemspage=302&itemspage=302&screenshotspage=302&videospage=302&artpage=302&allguidepage=302&webguidepage=302&integratedguidepage=302&discussionspage=302&numperpage=10&browsefilter=mostrecent&appid=292030&l=english&appHubSubSection=10&filterLanguage=default&searchText=&forceanon=1\n",
      "Number of cards :  10\n",
      "https://steamcommunity.com/app/292030/homecontent/?userreviewsoffset=3020&p=303&workshopitemspage=303&readytouseitemspage=303&mtxitemspage=303&itemspage=303&screenshotspage=303&videospage=303&artpage=303&allguidepage=303&webguidepage=303&integratedguidepage=303&discussionspage=303&numperpage=10&browsefilter=mostrecent&appid=292030&l=english&appHubSubSection=10&filterLanguage=default&searchText=&forceanon=1\n",
      "Number of cards :  10\n",
      "https://steamcommunity.com/app/292030/homecontent/?userreviewsoffset=3030&p=304&workshopitemspage=304&readytouseitemspage=304&mtxitemspage=304&itemspage=304&screenshotspage=304&videospage=304&artpage=304&allguidepage=304&webguidepage=304&integratedguidepage=304&discussionspage=304&numperpage=10&browsefilter=mostrecent&appid=292030&l=english&appHubSubSection=10&filterLanguage=default&searchText=&forceanon=1\n",
      "Number of cards :  10\n",
      "https://steamcommunity.com/app/292030/homecontent/?userreviewsoffset=3040&p=305&workshopitemspage=305&readytouseitemspage=305&mtxitemspage=305&itemspage=305&screenshotspage=305&videospage=305&artpage=305&allguidepage=305&webguidepage=305&integratedguidepage=305&discussionspage=305&numperpage=10&browsefilter=mostrecent&appid=292030&l=english&appHubSubSection=10&filterLanguage=default&searchText=&forceanon=1\n",
      "Number of cards :  10\n",
      "https://steamcommunity.com/app/292030/homecontent/?userreviewsoffset=3050&p=306&workshopitemspage=306&readytouseitemspage=306&mtxitemspage=306&itemspage=306&screenshotspage=306&videospage=306&artpage=306&allguidepage=306&webguidepage=306&integratedguidepage=306&discussionspage=306&numperpage=10&browsefilter=mostrecent&appid=292030&l=english&appHubSubSection=10&filterLanguage=default&searchText=&forceanon=1\n",
      "Number of cards :  10\n",
      "https://steamcommunity.com/app/292030/homecontent/?userreviewsoffset=3060&p=307&workshopitemspage=307&readytouseitemspage=307&mtxitemspage=307&itemspage=307&screenshotspage=307&videospage=307&artpage=307&allguidepage=307&webguidepage=307&integratedguidepage=307&discussionspage=307&numperpage=10&browsefilter=mostrecent&appid=292030&l=english&appHubSubSection=10&filterLanguage=default&searchText=&forceanon=1\n",
      "Number of cards :  10\n",
      "https://steamcommunity.com/app/292030/homecontent/?userreviewsoffset=3070&p=308&workshopitemspage=308&readytouseitemspage=308&mtxitemspage=308&itemspage=308&screenshotspage=308&videospage=308&artpage=308&allguidepage=308&webguidepage=308&integratedguidepage=308&discussionspage=308&numperpage=10&browsefilter=mostrecent&appid=292030&l=english&appHubSubSection=10&filterLanguage=default&searchText=&forceanon=1\n",
      "Number of cards :  10\n",
      "https://steamcommunity.com/app/292030/homecontent/?userreviewsoffset=3080&p=309&workshopitemspage=309&readytouseitemspage=309&mtxitemspage=309&itemspage=309&screenshotspage=309&videospage=309&artpage=309&allguidepage=309&webguidepage=309&integratedguidepage=309&discussionspage=309&numperpage=10&browsefilter=mostrecent&appid=292030&l=english&appHubSubSection=10&filterLanguage=default&searchText=&forceanon=1\n",
      "Number of cards :  10\n",
      "https://steamcommunity.com/app/292030/homecontent/?userreviewsoffset=3090&p=310&workshopitemspage=310&readytouseitemspage=310&mtxitemspage=310&itemspage=310&screenshotspage=310&videospage=310&artpage=310&allguidepage=310&webguidepage=310&integratedguidepage=310&discussionspage=310&numperpage=10&browsefilter=mostrecent&appid=292030&l=english&appHubSubSection=10&filterLanguage=default&searchText=&forceanon=1\n",
      "Number of cards :  10\n",
      "https://steamcommunity.com/app/292030/homecontent/?userreviewsoffset=3100&p=311&workshopitemspage=311&readytouseitemspage=311&mtxitemspage=311&itemspage=311&screenshotspage=311&videospage=311&artpage=311&allguidepage=311&webguidepage=311&integratedguidepage=311&discussionspage=311&numperpage=10&browsefilter=mostrecent&appid=292030&l=english&appHubSubSection=10&filterLanguage=default&searchText=&forceanon=1\n",
      "Number of cards :  10\n",
      "https://steamcommunity.com/app/292030/homecontent/?userreviewsoffset=3110&p=312&workshopitemspage=312&readytouseitemspage=312&mtxitemspage=312&itemspage=312&screenshotspage=312&videospage=312&artpage=312&allguidepage=312&webguidepage=312&integratedguidepage=312&discussionspage=312&numperpage=10&browsefilter=mostrecent&appid=292030&l=english&appHubSubSection=10&filterLanguage=default&searchText=&forceanon=1\n",
      "Number of cards :  10\n",
      "https://steamcommunity.com/app/292030/homecontent/?userreviewsoffset=3120&p=313&workshopitemspage=313&readytouseitemspage=313&mtxitemspage=313&itemspage=313&screenshotspage=313&videospage=313&artpage=313&allguidepage=313&webguidepage=313&integratedguidepage=313&discussionspage=313&numperpage=10&browsefilter=mostrecent&appid=292030&l=english&appHubSubSection=10&filterLanguage=default&searchText=&forceanon=1\n",
      "Number of cards :  10\n",
      "https://steamcommunity.com/app/292030/homecontent/?userreviewsoffset=3130&p=314&workshopitemspage=314&readytouseitemspage=314&mtxitemspage=314&itemspage=314&screenshotspage=314&videospage=314&artpage=314&allguidepage=314&webguidepage=314&integratedguidepage=314&discussionspage=314&numperpage=10&browsefilter=mostrecent&appid=292030&l=english&appHubSubSection=10&filterLanguage=default&searchText=&forceanon=1\n",
      "Number of cards :  10\n",
      "https://steamcommunity.com/app/292030/homecontent/?userreviewsoffset=3140&p=315&workshopitemspage=315&readytouseitemspage=315&mtxitemspage=315&itemspage=315&screenshotspage=315&videospage=315&artpage=315&allguidepage=315&webguidepage=315&integratedguidepage=315&discussionspage=315&numperpage=10&browsefilter=mostrecent&appid=292030&l=english&appHubSubSection=10&filterLanguage=default&searchText=&forceanon=1\n",
      "Number of cards :  10\n",
      "https://steamcommunity.com/app/292030/homecontent/?userreviewsoffset=3150&p=316&workshopitemspage=316&readytouseitemspage=316&mtxitemspage=316&itemspage=316&screenshotspage=316&videospage=316&artpage=316&allguidepage=316&webguidepage=316&integratedguidepage=316&discussionspage=316&numperpage=10&browsefilter=mostrecent&appid=292030&l=english&appHubSubSection=10&filterLanguage=default&searchText=&forceanon=1\n",
      "Number of cards :  10\n",
      "https://steamcommunity.com/app/292030/homecontent/?userreviewsoffset=3160&p=317&workshopitemspage=317&readytouseitemspage=317&mtxitemspage=317&itemspage=317&screenshotspage=317&videospage=317&artpage=317&allguidepage=317&webguidepage=317&integratedguidepage=317&discussionspage=317&numperpage=10&browsefilter=mostrecent&appid=292030&l=english&appHubSubSection=10&filterLanguage=default&searchText=&forceanon=1\n",
      "Number of cards :  10\n",
      "https://steamcommunity.com/app/292030/homecontent/?userreviewsoffset=3170&p=318&workshopitemspage=318&readytouseitemspage=318&mtxitemspage=318&itemspage=318&screenshotspage=318&videospage=318&artpage=318&allguidepage=318&webguidepage=318&integratedguidepage=318&discussionspage=318&numperpage=10&browsefilter=mostrecent&appid=292030&l=english&appHubSubSection=10&filterLanguage=default&searchText=&forceanon=1\n",
      "Number of cards :  10\n",
      "https://steamcommunity.com/app/292030/homecontent/?userreviewsoffset=3180&p=319&workshopitemspage=319&readytouseitemspage=319&mtxitemspage=319&itemspage=319&screenshotspage=319&videospage=319&artpage=319&allguidepage=319&webguidepage=319&integratedguidepage=319&discussionspage=319&numperpage=10&browsefilter=mostrecent&appid=292030&l=english&appHubSubSection=10&filterLanguage=default&searchText=&forceanon=1\n",
      "Number of cards :  10\n"
     ]
    },
    {
     "name": "stdout",
     "output_type": "stream",
     "text": [
      "https://steamcommunity.com/app/292030/homecontent/?userreviewsoffset=3190&p=320&workshopitemspage=320&readytouseitemspage=320&mtxitemspage=320&itemspage=320&screenshotspage=320&videospage=320&artpage=320&allguidepage=320&webguidepage=320&integratedguidepage=320&discussionspage=320&numperpage=10&browsefilter=mostrecent&appid=292030&l=english&appHubSubSection=10&filterLanguage=default&searchText=&forceanon=1\n",
      "Number of cards :  10\n",
      "https://steamcommunity.com/app/292030/homecontent/?userreviewsoffset=3200&p=321&workshopitemspage=321&readytouseitemspage=321&mtxitemspage=321&itemspage=321&screenshotspage=321&videospage=321&artpage=321&allguidepage=321&webguidepage=321&integratedguidepage=321&discussionspage=321&numperpage=10&browsefilter=mostrecent&appid=292030&l=english&appHubSubSection=10&filterLanguage=default&searchText=&forceanon=1\n",
      "Number of cards :  10\n",
      "https://steamcommunity.com/app/292030/homecontent/?userreviewsoffset=3210&p=322&workshopitemspage=322&readytouseitemspage=322&mtxitemspage=322&itemspage=322&screenshotspage=322&videospage=322&artpage=322&allguidepage=322&webguidepage=322&integratedguidepage=322&discussionspage=322&numperpage=10&browsefilter=mostrecent&appid=292030&l=english&appHubSubSection=10&filterLanguage=default&searchText=&forceanon=1\n",
      "Number of cards :  10\n",
      "https://steamcommunity.com/app/292030/homecontent/?userreviewsoffset=3220&p=323&workshopitemspage=323&readytouseitemspage=323&mtxitemspage=323&itemspage=323&screenshotspage=323&videospage=323&artpage=323&allguidepage=323&webguidepage=323&integratedguidepage=323&discussionspage=323&numperpage=10&browsefilter=mostrecent&appid=292030&l=english&appHubSubSection=10&filterLanguage=default&searchText=&forceanon=1\n",
      "Number of cards :  10\n",
      "https://steamcommunity.com/app/292030/homecontent/?userreviewsoffset=3230&p=324&workshopitemspage=324&readytouseitemspage=324&mtxitemspage=324&itemspage=324&screenshotspage=324&videospage=324&artpage=324&allguidepage=324&webguidepage=324&integratedguidepage=324&discussionspage=324&numperpage=10&browsefilter=mostrecent&appid=292030&l=english&appHubSubSection=10&filterLanguage=default&searchText=&forceanon=1\n",
      "Number of cards :  10\n",
      "https://steamcommunity.com/app/292030/homecontent/?userreviewsoffset=3240&p=325&workshopitemspage=325&readytouseitemspage=325&mtxitemspage=325&itemspage=325&screenshotspage=325&videospage=325&artpage=325&allguidepage=325&webguidepage=325&integratedguidepage=325&discussionspage=325&numperpage=10&browsefilter=mostrecent&appid=292030&l=english&appHubSubSection=10&filterLanguage=default&searchText=&forceanon=1\n",
      "Number of cards :  10\n",
      "https://steamcommunity.com/app/292030/homecontent/?userreviewsoffset=3250&p=326&workshopitemspage=326&readytouseitemspage=326&mtxitemspage=326&itemspage=326&screenshotspage=326&videospage=326&artpage=326&allguidepage=326&webguidepage=326&integratedguidepage=326&discussionspage=326&numperpage=10&browsefilter=mostrecent&appid=292030&l=english&appHubSubSection=10&filterLanguage=default&searchText=&forceanon=1\n",
      "Number of cards :  10\n",
      "https://steamcommunity.com/app/292030/homecontent/?userreviewsoffset=3260&p=327&workshopitemspage=327&readytouseitemspage=327&mtxitemspage=327&itemspage=327&screenshotspage=327&videospage=327&artpage=327&allguidepage=327&webguidepage=327&integratedguidepage=327&discussionspage=327&numperpage=10&browsefilter=mostrecent&appid=292030&l=english&appHubSubSection=10&filterLanguage=default&searchText=&forceanon=1\n",
      "Number of cards :  10\n",
      "https://steamcommunity.com/app/292030/homecontent/?userreviewsoffset=3270&p=328&workshopitemspage=328&readytouseitemspage=328&mtxitemspage=328&itemspage=328&screenshotspage=328&videospage=328&artpage=328&allguidepage=328&webguidepage=328&integratedguidepage=328&discussionspage=328&numperpage=10&browsefilter=mostrecent&appid=292030&l=english&appHubSubSection=10&filterLanguage=default&searchText=&forceanon=1\n",
      "Number of cards :  10\n",
      "https://steamcommunity.com/app/292030/homecontent/?userreviewsoffset=3280&p=329&workshopitemspage=329&readytouseitemspage=329&mtxitemspage=329&itemspage=329&screenshotspage=329&videospage=329&artpage=329&allguidepage=329&webguidepage=329&integratedguidepage=329&discussionspage=329&numperpage=10&browsefilter=mostrecent&appid=292030&l=english&appHubSubSection=10&filterLanguage=default&searchText=&forceanon=1\n",
      "Number of cards :  10\n",
      "https://steamcommunity.com/app/292030/homecontent/?userreviewsoffset=3290&p=330&workshopitemspage=330&readytouseitemspage=330&mtxitemspage=330&itemspage=330&screenshotspage=330&videospage=330&artpage=330&allguidepage=330&webguidepage=330&integratedguidepage=330&discussionspage=330&numperpage=10&browsefilter=mostrecent&appid=292030&l=english&appHubSubSection=10&filterLanguage=default&searchText=&forceanon=1\n",
      "Number of cards :  10\n",
      "https://steamcommunity.com/app/292030/homecontent/?userreviewsoffset=3300&p=331&workshopitemspage=331&readytouseitemspage=331&mtxitemspage=331&itemspage=331&screenshotspage=331&videospage=331&artpage=331&allguidepage=331&webguidepage=331&integratedguidepage=331&discussionspage=331&numperpage=10&browsefilter=mostrecent&appid=292030&l=english&appHubSubSection=10&filterLanguage=default&searchText=&forceanon=1\n",
      "Number of cards :  10\n",
      "https://steamcommunity.com/app/292030/homecontent/?userreviewsoffset=3310&p=332&workshopitemspage=332&readytouseitemspage=332&mtxitemspage=332&itemspage=332&screenshotspage=332&videospage=332&artpage=332&allguidepage=332&webguidepage=332&integratedguidepage=332&discussionspage=332&numperpage=10&browsefilter=mostrecent&appid=292030&l=english&appHubSubSection=10&filterLanguage=default&searchText=&forceanon=1\n",
      "Number of cards :  10\n",
      "https://steamcommunity.com/app/292030/homecontent/?userreviewsoffset=3320&p=333&workshopitemspage=333&readytouseitemspage=333&mtxitemspage=333&itemspage=333&screenshotspage=333&videospage=333&artpage=333&allguidepage=333&webguidepage=333&integratedguidepage=333&discussionspage=333&numperpage=10&browsefilter=mostrecent&appid=292030&l=english&appHubSubSection=10&filterLanguage=default&searchText=&forceanon=1\n",
      "Number of cards :  10\n",
      "https://steamcommunity.com/app/292030/homecontent/?userreviewsoffset=3330&p=334&workshopitemspage=334&readytouseitemspage=334&mtxitemspage=334&itemspage=334&screenshotspage=334&videospage=334&artpage=334&allguidepage=334&webguidepage=334&integratedguidepage=334&discussionspage=334&numperpage=10&browsefilter=mostrecent&appid=292030&l=english&appHubSubSection=10&filterLanguage=default&searchText=&forceanon=1\n",
      "Number of cards :  10\n",
      "https://steamcommunity.com/app/292030/homecontent/?userreviewsoffset=3340&p=335&workshopitemspage=335&readytouseitemspage=335&mtxitemspage=335&itemspage=335&screenshotspage=335&videospage=335&artpage=335&allguidepage=335&webguidepage=335&integratedguidepage=335&discussionspage=335&numperpage=10&browsefilter=mostrecent&appid=292030&l=english&appHubSubSection=10&filterLanguage=default&searchText=&forceanon=1\n",
      "Number of cards :  10\n",
      "https://steamcommunity.com/app/292030/homecontent/?userreviewsoffset=3350&p=336&workshopitemspage=336&readytouseitemspage=336&mtxitemspage=336&itemspage=336&screenshotspage=336&videospage=336&artpage=336&allguidepage=336&webguidepage=336&integratedguidepage=336&discussionspage=336&numperpage=10&browsefilter=mostrecent&appid=292030&l=english&appHubSubSection=10&filterLanguage=default&searchText=&forceanon=1\n",
      "Number of cards :  10\n",
      "https://steamcommunity.com/app/292030/homecontent/?userreviewsoffset=3360&p=337&workshopitemspage=337&readytouseitemspage=337&mtxitemspage=337&itemspage=337&screenshotspage=337&videospage=337&artpage=337&allguidepage=337&webguidepage=337&integratedguidepage=337&discussionspage=337&numperpage=10&browsefilter=mostrecent&appid=292030&l=english&appHubSubSection=10&filterLanguage=default&searchText=&forceanon=1\n",
      "Number of cards :  10\n",
      "https://steamcommunity.com/app/292030/homecontent/?userreviewsoffset=3370&p=338&workshopitemspage=338&readytouseitemspage=338&mtxitemspage=338&itemspage=338&screenshotspage=338&videospage=338&artpage=338&allguidepage=338&webguidepage=338&integratedguidepage=338&discussionspage=338&numperpage=10&browsefilter=mostrecent&appid=292030&l=english&appHubSubSection=10&filterLanguage=default&searchText=&forceanon=1\n",
      "Number of cards :  10\n"
     ]
    },
    {
     "name": "stdout",
     "output_type": "stream",
     "text": [
      "https://steamcommunity.com/app/292030/homecontent/?userreviewsoffset=3380&p=339&workshopitemspage=339&readytouseitemspage=339&mtxitemspage=339&itemspage=339&screenshotspage=339&videospage=339&artpage=339&allguidepage=339&webguidepage=339&integratedguidepage=339&discussionspage=339&numperpage=10&browsefilter=mostrecent&appid=292030&l=english&appHubSubSection=10&filterLanguage=default&searchText=&forceanon=1\n",
      "Number of cards :  10\n",
      "https://steamcommunity.com/app/292030/homecontent/?userreviewsoffset=3390&p=340&workshopitemspage=340&readytouseitemspage=340&mtxitemspage=340&itemspage=340&screenshotspage=340&videospage=340&artpage=340&allguidepage=340&webguidepage=340&integratedguidepage=340&discussionspage=340&numperpage=10&browsefilter=mostrecent&appid=292030&l=english&appHubSubSection=10&filterLanguage=default&searchText=&forceanon=1\n",
      "Number of cards :  10\n",
      "https://steamcommunity.com/app/292030/homecontent/?userreviewsoffset=3400&p=341&workshopitemspage=341&readytouseitemspage=341&mtxitemspage=341&itemspage=341&screenshotspage=341&videospage=341&artpage=341&allguidepage=341&webguidepage=341&integratedguidepage=341&discussionspage=341&numperpage=10&browsefilter=mostrecent&appid=292030&l=english&appHubSubSection=10&filterLanguage=default&searchText=&forceanon=1\n",
      "Number of cards :  10\n",
      "https://steamcommunity.com/app/292030/homecontent/?userreviewsoffset=3410&p=342&workshopitemspage=342&readytouseitemspage=342&mtxitemspage=342&itemspage=342&screenshotspage=342&videospage=342&artpage=342&allguidepage=342&webguidepage=342&integratedguidepage=342&discussionspage=342&numperpage=10&browsefilter=mostrecent&appid=292030&l=english&appHubSubSection=10&filterLanguage=default&searchText=&forceanon=1\n",
      "Number of cards :  10\n",
      "https://steamcommunity.com/app/292030/homecontent/?userreviewsoffset=3420&p=343&workshopitemspage=343&readytouseitemspage=343&mtxitemspage=343&itemspage=343&screenshotspage=343&videospage=343&artpage=343&allguidepage=343&webguidepage=343&integratedguidepage=343&discussionspage=343&numperpage=10&browsefilter=mostrecent&appid=292030&l=english&appHubSubSection=10&filterLanguage=default&searchText=&forceanon=1\n",
      "Number of cards :  10\n",
      "https://steamcommunity.com/app/292030/homecontent/?userreviewsoffset=3430&p=344&workshopitemspage=344&readytouseitemspage=344&mtxitemspage=344&itemspage=344&screenshotspage=344&videospage=344&artpage=344&allguidepage=344&webguidepage=344&integratedguidepage=344&discussionspage=344&numperpage=10&browsefilter=mostrecent&appid=292030&l=english&appHubSubSection=10&filterLanguage=default&searchText=&forceanon=1\n",
      "Number of cards :  10\n",
      "https://steamcommunity.com/app/292030/homecontent/?userreviewsoffset=3440&p=345&workshopitemspage=345&readytouseitemspage=345&mtxitemspage=345&itemspage=345&screenshotspage=345&videospage=345&artpage=345&allguidepage=345&webguidepage=345&integratedguidepage=345&discussionspage=345&numperpage=10&browsefilter=mostrecent&appid=292030&l=english&appHubSubSection=10&filterLanguage=default&searchText=&forceanon=1\n",
      "Number of cards :  10\n",
      "https://steamcommunity.com/app/292030/homecontent/?userreviewsoffset=3450&p=346&workshopitemspage=346&readytouseitemspage=346&mtxitemspage=346&itemspage=346&screenshotspage=346&videospage=346&artpage=346&allguidepage=346&webguidepage=346&integratedguidepage=346&discussionspage=346&numperpage=10&browsefilter=mostrecent&appid=292030&l=english&appHubSubSection=10&filterLanguage=default&searchText=&forceanon=1\n",
      "Number of cards :  10\n",
      "https://steamcommunity.com/app/292030/homecontent/?userreviewsoffset=3460&p=347&workshopitemspage=347&readytouseitemspage=347&mtxitemspage=347&itemspage=347&screenshotspage=347&videospage=347&artpage=347&allguidepage=347&webguidepage=347&integratedguidepage=347&discussionspage=347&numperpage=10&browsefilter=mostrecent&appid=292030&l=english&appHubSubSection=10&filterLanguage=default&searchText=&forceanon=1\n",
      "Number of cards :  10\n",
      "https://steamcommunity.com/app/292030/homecontent/?userreviewsoffset=3470&p=348&workshopitemspage=348&readytouseitemspage=348&mtxitemspage=348&itemspage=348&screenshotspage=348&videospage=348&artpage=348&allguidepage=348&webguidepage=348&integratedguidepage=348&discussionspage=348&numperpage=10&browsefilter=mostrecent&appid=292030&l=english&appHubSubSection=10&filterLanguage=default&searchText=&forceanon=1\n",
      "Number of cards :  10\n",
      "https://steamcommunity.com/app/292030/homecontent/?userreviewsoffset=3480&p=349&workshopitemspage=349&readytouseitemspage=349&mtxitemspage=349&itemspage=349&screenshotspage=349&videospage=349&artpage=349&allguidepage=349&webguidepage=349&integratedguidepage=349&discussionspage=349&numperpage=10&browsefilter=mostrecent&appid=292030&l=english&appHubSubSection=10&filterLanguage=default&searchText=&forceanon=1\n",
      "Number of cards :  10\n",
      "https://steamcommunity.com/app/292030/homecontent/?userreviewsoffset=3490&p=350&workshopitemspage=350&readytouseitemspage=350&mtxitemspage=350&itemspage=350&screenshotspage=350&videospage=350&artpage=350&allguidepage=350&webguidepage=350&integratedguidepage=350&discussionspage=350&numperpage=10&browsefilter=mostrecent&appid=292030&l=english&appHubSubSection=10&filterLanguage=default&searchText=&forceanon=1\n",
      "Number of cards :  10\n",
      "https://steamcommunity.com/app/292030/homecontent/?userreviewsoffset=3500&p=351&workshopitemspage=351&readytouseitemspage=351&mtxitemspage=351&itemspage=351&screenshotspage=351&videospage=351&artpage=351&allguidepage=351&webguidepage=351&integratedguidepage=351&discussionspage=351&numperpage=10&browsefilter=mostrecent&appid=292030&l=english&appHubSubSection=10&filterLanguage=default&searchText=&forceanon=1\n",
      "Number of cards :  10\n",
      "https://steamcommunity.com/app/292030/homecontent/?userreviewsoffset=3510&p=352&workshopitemspage=352&readytouseitemspage=352&mtxitemspage=352&itemspage=352&screenshotspage=352&videospage=352&artpage=352&allguidepage=352&webguidepage=352&integratedguidepage=352&discussionspage=352&numperpage=10&browsefilter=mostrecent&appid=292030&l=english&appHubSubSection=10&filterLanguage=default&searchText=&forceanon=1\n",
      "Number of cards :  10\n",
      "https://steamcommunity.com/app/292030/homecontent/?userreviewsoffset=3520&p=353&workshopitemspage=353&readytouseitemspage=353&mtxitemspage=353&itemspage=353&screenshotspage=353&videospage=353&artpage=353&allguidepage=353&webguidepage=353&integratedguidepage=353&discussionspage=353&numperpage=10&browsefilter=mostrecent&appid=292030&l=english&appHubSubSection=10&filterLanguage=default&searchText=&forceanon=1\n",
      "Number of cards :  10\n",
      "https://steamcommunity.com/app/292030/homecontent/?userreviewsoffset=3530&p=354&workshopitemspage=354&readytouseitemspage=354&mtxitemspage=354&itemspage=354&screenshotspage=354&videospage=354&artpage=354&allguidepage=354&webguidepage=354&integratedguidepage=354&discussionspage=354&numperpage=10&browsefilter=mostrecent&appid=292030&l=english&appHubSubSection=10&filterLanguage=default&searchText=&forceanon=1\n",
      "Number of cards :  10\n",
      "https://steamcommunity.com/app/292030/homecontent/?userreviewsoffset=3540&p=355&workshopitemspage=355&readytouseitemspage=355&mtxitemspage=355&itemspage=355&screenshotspage=355&videospage=355&artpage=355&allguidepage=355&webguidepage=355&integratedguidepage=355&discussionspage=355&numperpage=10&browsefilter=mostrecent&appid=292030&l=english&appHubSubSection=10&filterLanguage=default&searchText=&forceanon=1\n",
      "Number of cards :  10\n",
      "https://steamcommunity.com/app/292030/homecontent/?userreviewsoffset=3550&p=356&workshopitemspage=356&readytouseitemspage=356&mtxitemspage=356&itemspage=356&screenshotspage=356&videospage=356&artpage=356&allguidepage=356&webguidepage=356&integratedguidepage=356&discussionspage=356&numperpage=10&browsefilter=mostrecent&appid=292030&l=english&appHubSubSection=10&filterLanguage=default&searchText=&forceanon=1\n",
      "Number of cards :  10\n",
      "https://steamcommunity.com/app/292030/homecontent/?userreviewsoffset=3560&p=357&workshopitemspage=357&readytouseitemspage=357&mtxitemspage=357&itemspage=357&screenshotspage=357&videospage=357&artpage=357&allguidepage=357&webguidepage=357&integratedguidepage=357&discussionspage=357&numperpage=10&browsefilter=mostrecent&appid=292030&l=english&appHubSubSection=10&filterLanguage=default&searchText=&forceanon=1\n",
      "Number of cards :  10\n"
     ]
    },
    {
     "name": "stdout",
     "output_type": "stream",
     "text": [
      "https://steamcommunity.com/app/292030/homecontent/?userreviewsoffset=3570&p=358&workshopitemspage=358&readytouseitemspage=358&mtxitemspage=358&itemspage=358&screenshotspage=358&videospage=358&artpage=358&allguidepage=358&webguidepage=358&integratedguidepage=358&discussionspage=358&numperpage=10&browsefilter=mostrecent&appid=292030&l=english&appHubSubSection=10&filterLanguage=default&searchText=&forceanon=1\n",
      "Number of cards :  10\n",
      "https://steamcommunity.com/app/292030/homecontent/?userreviewsoffset=3580&p=359&workshopitemspage=359&readytouseitemspage=359&mtxitemspage=359&itemspage=359&screenshotspage=359&videospage=359&artpage=359&allguidepage=359&webguidepage=359&integratedguidepage=359&discussionspage=359&numperpage=10&browsefilter=mostrecent&appid=292030&l=english&appHubSubSection=10&filterLanguage=default&searchText=&forceanon=1\n",
      "Number of cards :  10\n",
      "https://steamcommunity.com/app/292030/homecontent/?userreviewsoffset=3590&p=360&workshopitemspage=360&readytouseitemspage=360&mtxitemspage=360&itemspage=360&screenshotspage=360&videospage=360&artpage=360&allguidepage=360&webguidepage=360&integratedguidepage=360&discussionspage=360&numperpage=10&browsefilter=mostrecent&appid=292030&l=english&appHubSubSection=10&filterLanguage=default&searchText=&forceanon=1\n",
      "Number of cards :  10\n",
      "https://steamcommunity.com/app/292030/homecontent/?userreviewsoffset=3600&p=361&workshopitemspage=361&readytouseitemspage=361&mtxitemspage=361&itemspage=361&screenshotspage=361&videospage=361&artpage=361&allguidepage=361&webguidepage=361&integratedguidepage=361&discussionspage=361&numperpage=10&browsefilter=mostrecent&appid=292030&l=english&appHubSubSection=10&filterLanguage=default&searchText=&forceanon=1\n",
      "Number of cards :  10\n",
      "https://steamcommunity.com/app/292030/homecontent/?userreviewsoffset=3610&p=362&workshopitemspage=362&readytouseitemspage=362&mtxitemspage=362&itemspage=362&screenshotspage=362&videospage=362&artpage=362&allguidepage=362&webguidepage=362&integratedguidepage=362&discussionspage=362&numperpage=10&browsefilter=mostrecent&appid=292030&l=english&appHubSubSection=10&filterLanguage=default&searchText=&forceanon=1\n",
      "Number of cards :  10\n",
      "https://steamcommunity.com/app/292030/homecontent/?userreviewsoffset=3620&p=363&workshopitemspage=363&readytouseitemspage=363&mtxitemspage=363&itemspage=363&screenshotspage=363&videospage=363&artpage=363&allguidepage=363&webguidepage=363&integratedguidepage=363&discussionspage=363&numperpage=10&browsefilter=mostrecent&appid=292030&l=english&appHubSubSection=10&filterLanguage=default&searchText=&forceanon=1\n",
      "Number of cards :  10\n",
      "https://steamcommunity.com/app/292030/homecontent/?userreviewsoffset=3630&p=364&workshopitemspage=364&readytouseitemspage=364&mtxitemspage=364&itemspage=364&screenshotspage=364&videospage=364&artpage=364&allguidepage=364&webguidepage=364&integratedguidepage=364&discussionspage=364&numperpage=10&browsefilter=mostrecent&appid=292030&l=english&appHubSubSection=10&filterLanguage=default&searchText=&forceanon=1\n",
      "Number of cards :  10\n",
      "https://steamcommunity.com/app/292030/homecontent/?userreviewsoffset=3640&p=365&workshopitemspage=365&readytouseitemspage=365&mtxitemspage=365&itemspage=365&screenshotspage=365&videospage=365&artpage=365&allguidepage=365&webguidepage=365&integratedguidepage=365&discussionspage=365&numperpage=10&browsefilter=mostrecent&appid=292030&l=english&appHubSubSection=10&filterLanguage=default&searchText=&forceanon=1\n",
      "Number of cards :  10\n",
      "https://steamcommunity.com/app/292030/homecontent/?userreviewsoffset=3650&p=366&workshopitemspage=366&readytouseitemspage=366&mtxitemspage=366&itemspage=366&screenshotspage=366&videospage=366&artpage=366&allguidepage=366&webguidepage=366&integratedguidepage=366&discussionspage=366&numperpage=10&browsefilter=mostrecent&appid=292030&l=english&appHubSubSection=10&filterLanguage=default&searchText=&forceanon=1\n",
      "Number of cards :  10\n",
      "https://steamcommunity.com/app/292030/homecontent/?userreviewsoffset=3660&p=367&workshopitemspage=367&readytouseitemspage=367&mtxitemspage=367&itemspage=367&screenshotspage=367&videospage=367&artpage=367&allguidepage=367&webguidepage=367&integratedguidepage=367&discussionspage=367&numperpage=10&browsefilter=mostrecent&appid=292030&l=english&appHubSubSection=10&filterLanguage=default&searchText=&forceanon=1\n",
      "Number of cards :  10\n",
      "https://steamcommunity.com/app/292030/homecontent/?userreviewsoffset=3670&p=368&workshopitemspage=368&readytouseitemspage=368&mtxitemspage=368&itemspage=368&screenshotspage=368&videospage=368&artpage=368&allguidepage=368&webguidepage=368&integratedguidepage=368&discussionspage=368&numperpage=10&browsefilter=mostrecent&appid=292030&l=english&appHubSubSection=10&filterLanguage=default&searchText=&forceanon=1\n",
      "Number of cards :  10\n",
      "https://steamcommunity.com/app/292030/homecontent/?userreviewsoffset=3680&p=369&workshopitemspage=369&readytouseitemspage=369&mtxitemspage=369&itemspage=369&screenshotspage=369&videospage=369&artpage=369&allguidepage=369&webguidepage=369&integratedguidepage=369&discussionspage=369&numperpage=10&browsefilter=mostrecent&appid=292030&l=english&appHubSubSection=10&filterLanguage=default&searchText=&forceanon=1\n",
      "Number of cards :  10\n",
      "https://steamcommunity.com/app/292030/homecontent/?userreviewsoffset=3690&p=370&workshopitemspage=370&readytouseitemspage=370&mtxitemspage=370&itemspage=370&screenshotspage=370&videospage=370&artpage=370&allguidepage=370&webguidepage=370&integratedguidepage=370&discussionspage=370&numperpage=10&browsefilter=mostrecent&appid=292030&l=english&appHubSubSection=10&filterLanguage=default&searchText=&forceanon=1\n",
      "Number of cards :  10\n",
      "https://steamcommunity.com/app/292030/homecontent/?userreviewsoffset=3700&p=371&workshopitemspage=371&readytouseitemspage=371&mtxitemspage=371&itemspage=371&screenshotspage=371&videospage=371&artpage=371&allguidepage=371&webguidepage=371&integratedguidepage=371&discussionspage=371&numperpage=10&browsefilter=mostrecent&appid=292030&l=english&appHubSubSection=10&filterLanguage=default&searchText=&forceanon=1\n",
      "Number of cards :  10\n",
      "https://steamcommunity.com/app/292030/homecontent/?userreviewsoffset=3710&p=372&workshopitemspage=372&readytouseitemspage=372&mtxitemspage=372&itemspage=372&screenshotspage=372&videospage=372&artpage=372&allguidepage=372&webguidepage=372&integratedguidepage=372&discussionspage=372&numperpage=10&browsefilter=mostrecent&appid=292030&l=english&appHubSubSection=10&filterLanguage=default&searchText=&forceanon=1\n",
      "Number of cards :  10\n",
      "https://steamcommunity.com/app/292030/homecontent/?userreviewsoffset=3720&p=373&workshopitemspage=373&readytouseitemspage=373&mtxitemspage=373&itemspage=373&screenshotspage=373&videospage=373&artpage=373&allguidepage=373&webguidepage=373&integratedguidepage=373&discussionspage=373&numperpage=10&browsefilter=mostrecent&appid=292030&l=english&appHubSubSection=10&filterLanguage=default&searchText=&forceanon=1\n",
      "Number of cards :  10\n",
      "https://steamcommunity.com/app/292030/homecontent/?userreviewsoffset=3730&p=374&workshopitemspage=374&readytouseitemspage=374&mtxitemspage=374&itemspage=374&screenshotspage=374&videospage=374&artpage=374&allguidepage=374&webguidepage=374&integratedguidepage=374&discussionspage=374&numperpage=10&browsefilter=mostrecent&appid=292030&l=english&appHubSubSection=10&filterLanguage=default&searchText=&forceanon=1\n",
      "Number of cards :  10\n",
      "https://steamcommunity.com/app/292030/homecontent/?userreviewsoffset=3740&p=375&workshopitemspage=375&readytouseitemspage=375&mtxitemspage=375&itemspage=375&screenshotspage=375&videospage=375&artpage=375&allguidepage=375&webguidepage=375&integratedguidepage=375&discussionspage=375&numperpage=10&browsefilter=mostrecent&appid=292030&l=english&appHubSubSection=10&filterLanguage=default&searchText=&forceanon=1\n",
      "Number of cards :  10\n",
      "https://steamcommunity.com/app/292030/homecontent/?userreviewsoffset=3750&p=376&workshopitemspage=376&readytouseitemspage=376&mtxitemspage=376&itemspage=376&screenshotspage=376&videospage=376&artpage=376&allguidepage=376&webguidepage=376&integratedguidepage=376&discussionspage=376&numperpage=10&browsefilter=mostrecent&appid=292030&l=english&appHubSubSection=10&filterLanguage=default&searchText=&forceanon=1\n",
      "Number of cards :  10\n"
     ]
    },
    {
     "name": "stdout",
     "output_type": "stream",
     "text": [
      "https://steamcommunity.com/app/292030/homecontent/?userreviewsoffset=3760&p=377&workshopitemspage=377&readytouseitemspage=377&mtxitemspage=377&itemspage=377&screenshotspage=377&videospage=377&artpage=377&allguidepage=377&webguidepage=377&integratedguidepage=377&discussionspage=377&numperpage=10&browsefilter=mostrecent&appid=292030&l=english&appHubSubSection=10&filterLanguage=default&searchText=&forceanon=1\n",
      "Number of cards :  10\n",
      "https://steamcommunity.com/app/292030/homecontent/?userreviewsoffset=3770&p=378&workshopitemspage=378&readytouseitemspage=378&mtxitemspage=378&itemspage=378&screenshotspage=378&videospage=378&artpage=378&allguidepage=378&webguidepage=378&integratedguidepage=378&discussionspage=378&numperpage=10&browsefilter=mostrecent&appid=292030&l=english&appHubSubSection=10&filterLanguage=default&searchText=&forceanon=1\n",
      "Number of cards :  10\n",
      "https://steamcommunity.com/app/292030/homecontent/?userreviewsoffset=3780&p=379&workshopitemspage=379&readytouseitemspage=379&mtxitemspage=379&itemspage=379&screenshotspage=379&videospage=379&artpage=379&allguidepage=379&webguidepage=379&integratedguidepage=379&discussionspage=379&numperpage=10&browsefilter=mostrecent&appid=292030&l=english&appHubSubSection=10&filterLanguage=default&searchText=&forceanon=1\n",
      "Number of cards :  10\n",
      "https://steamcommunity.com/app/292030/homecontent/?userreviewsoffset=3790&p=380&workshopitemspage=380&readytouseitemspage=380&mtxitemspage=380&itemspage=380&screenshotspage=380&videospage=380&artpage=380&allguidepage=380&webguidepage=380&integratedguidepage=380&discussionspage=380&numperpage=10&browsefilter=mostrecent&appid=292030&l=english&appHubSubSection=10&filterLanguage=default&searchText=&forceanon=1\n",
      "Number of cards :  10\n",
      "https://steamcommunity.com/app/292030/homecontent/?userreviewsoffset=3800&p=381&workshopitemspage=381&readytouseitemspage=381&mtxitemspage=381&itemspage=381&screenshotspage=381&videospage=381&artpage=381&allguidepage=381&webguidepage=381&integratedguidepage=381&discussionspage=381&numperpage=10&browsefilter=mostrecent&appid=292030&l=english&appHubSubSection=10&filterLanguage=default&searchText=&forceanon=1\n",
      "Number of cards :  10\n",
      "https://steamcommunity.com/app/292030/homecontent/?userreviewsoffset=3810&p=382&workshopitemspage=382&readytouseitemspage=382&mtxitemspage=382&itemspage=382&screenshotspage=382&videospage=382&artpage=382&allguidepage=382&webguidepage=382&integratedguidepage=382&discussionspage=382&numperpage=10&browsefilter=mostrecent&appid=292030&l=english&appHubSubSection=10&filterLanguage=default&searchText=&forceanon=1\n",
      "Number of cards :  10\n",
      "https://steamcommunity.com/app/292030/homecontent/?userreviewsoffset=3820&p=383&workshopitemspage=383&readytouseitemspage=383&mtxitemspage=383&itemspage=383&screenshotspage=383&videospage=383&artpage=383&allguidepage=383&webguidepage=383&integratedguidepage=383&discussionspage=383&numperpage=10&browsefilter=mostrecent&appid=292030&l=english&appHubSubSection=10&filterLanguage=default&searchText=&forceanon=1\n",
      "Number of cards :  10\n",
      "https://steamcommunity.com/app/292030/homecontent/?userreviewsoffset=3830&p=384&workshopitemspage=384&readytouseitemspage=384&mtxitemspage=384&itemspage=384&screenshotspage=384&videospage=384&artpage=384&allguidepage=384&webguidepage=384&integratedguidepage=384&discussionspage=384&numperpage=10&browsefilter=mostrecent&appid=292030&l=english&appHubSubSection=10&filterLanguage=default&searchText=&forceanon=1\n",
      "Number of cards :  10\n",
      "https://steamcommunity.com/app/292030/homecontent/?userreviewsoffset=3840&p=385&workshopitemspage=385&readytouseitemspage=385&mtxitemspage=385&itemspage=385&screenshotspage=385&videospage=385&artpage=385&allguidepage=385&webguidepage=385&integratedguidepage=385&discussionspage=385&numperpage=10&browsefilter=mostrecent&appid=292030&l=english&appHubSubSection=10&filterLanguage=default&searchText=&forceanon=1\n",
      "Number of cards :  10\n",
      "https://steamcommunity.com/app/292030/homecontent/?userreviewsoffset=3850&p=386&workshopitemspage=386&readytouseitemspage=386&mtxitemspage=386&itemspage=386&screenshotspage=386&videospage=386&artpage=386&allguidepage=386&webguidepage=386&integratedguidepage=386&discussionspage=386&numperpage=10&browsefilter=mostrecent&appid=292030&l=english&appHubSubSection=10&filterLanguage=default&searchText=&forceanon=1\n",
      "Number of cards :  10\n",
      "https://steamcommunity.com/app/292030/homecontent/?userreviewsoffset=3860&p=387&workshopitemspage=387&readytouseitemspage=387&mtxitemspage=387&itemspage=387&screenshotspage=387&videospage=387&artpage=387&allguidepage=387&webguidepage=387&integratedguidepage=387&discussionspage=387&numperpage=10&browsefilter=mostrecent&appid=292030&l=english&appHubSubSection=10&filterLanguage=default&searchText=&forceanon=1\n",
      "Number of cards :  10\n",
      "https://steamcommunity.com/app/292030/homecontent/?userreviewsoffset=3870&p=388&workshopitemspage=388&readytouseitemspage=388&mtxitemspage=388&itemspage=388&screenshotspage=388&videospage=388&artpage=388&allguidepage=388&webguidepage=388&integratedguidepage=388&discussionspage=388&numperpage=10&browsefilter=mostrecent&appid=292030&l=english&appHubSubSection=10&filterLanguage=default&searchText=&forceanon=1\n",
      "Number of cards :  10\n",
      "https://steamcommunity.com/app/292030/homecontent/?userreviewsoffset=3880&p=389&workshopitemspage=389&readytouseitemspage=389&mtxitemspage=389&itemspage=389&screenshotspage=389&videospage=389&artpage=389&allguidepage=389&webguidepage=389&integratedguidepage=389&discussionspage=389&numperpage=10&browsefilter=mostrecent&appid=292030&l=english&appHubSubSection=10&filterLanguage=default&searchText=&forceanon=1\n",
      "Number of cards :  10\n",
      "https://steamcommunity.com/app/292030/homecontent/?userreviewsoffset=3890&p=390&workshopitemspage=390&readytouseitemspage=390&mtxitemspage=390&itemspage=390&screenshotspage=390&videospage=390&artpage=390&allguidepage=390&webguidepage=390&integratedguidepage=390&discussionspage=390&numperpage=10&browsefilter=mostrecent&appid=292030&l=english&appHubSubSection=10&filterLanguage=default&searchText=&forceanon=1\n",
      "Number of cards :  10\n",
      "https://steamcommunity.com/app/292030/homecontent/?userreviewsoffset=3900&p=391&workshopitemspage=391&readytouseitemspage=391&mtxitemspage=391&itemspage=391&screenshotspage=391&videospage=391&artpage=391&allguidepage=391&webguidepage=391&integratedguidepage=391&discussionspage=391&numperpage=10&browsefilter=mostrecent&appid=292030&l=english&appHubSubSection=10&filterLanguage=default&searchText=&forceanon=1\n",
      "Number of cards :  10\n",
      "https://steamcommunity.com/app/292030/homecontent/?userreviewsoffset=3910&p=392&workshopitemspage=392&readytouseitemspage=392&mtxitemspage=392&itemspage=392&screenshotspage=392&videospage=392&artpage=392&allguidepage=392&webguidepage=392&integratedguidepage=392&discussionspage=392&numperpage=10&browsefilter=mostrecent&appid=292030&l=english&appHubSubSection=10&filterLanguage=default&searchText=&forceanon=1\n",
      "Number of cards :  10\n",
      "https://steamcommunity.com/app/292030/homecontent/?userreviewsoffset=3920&p=393&workshopitemspage=393&readytouseitemspage=393&mtxitemspage=393&itemspage=393&screenshotspage=393&videospage=393&artpage=393&allguidepage=393&webguidepage=393&integratedguidepage=393&discussionspage=393&numperpage=10&browsefilter=mostrecent&appid=292030&l=english&appHubSubSection=10&filterLanguage=default&searchText=&forceanon=1\n",
      "Number of cards :  10\n",
      "https://steamcommunity.com/app/292030/homecontent/?userreviewsoffset=3930&p=394&workshopitemspage=394&readytouseitemspage=394&mtxitemspage=394&itemspage=394&screenshotspage=394&videospage=394&artpage=394&allguidepage=394&webguidepage=394&integratedguidepage=394&discussionspage=394&numperpage=10&browsefilter=mostrecent&appid=292030&l=english&appHubSubSection=10&filterLanguage=default&searchText=&forceanon=1\n",
      "Number of cards :  10\n",
      "https://steamcommunity.com/app/292030/homecontent/?userreviewsoffset=3940&p=395&workshopitemspage=395&readytouseitemspage=395&mtxitemspage=395&itemspage=395&screenshotspage=395&videospage=395&artpage=395&allguidepage=395&webguidepage=395&integratedguidepage=395&discussionspage=395&numperpage=10&browsefilter=mostrecent&appid=292030&l=english&appHubSubSection=10&filterLanguage=default&searchText=&forceanon=1\n",
      "Number of cards :  10\n"
     ]
    },
    {
     "name": "stdout",
     "output_type": "stream",
     "text": [
      "https://steamcommunity.com/app/292030/homecontent/?userreviewsoffset=3950&p=396&workshopitemspage=396&readytouseitemspage=396&mtxitemspage=396&itemspage=396&screenshotspage=396&videospage=396&artpage=396&allguidepage=396&webguidepage=396&integratedguidepage=396&discussionspage=396&numperpage=10&browsefilter=mostrecent&appid=292030&l=english&appHubSubSection=10&filterLanguage=default&searchText=&forceanon=1\n",
      "Number of cards :  10\n",
      "https://steamcommunity.com/app/292030/homecontent/?userreviewsoffset=3960&p=397&workshopitemspage=397&readytouseitemspage=397&mtxitemspage=397&itemspage=397&screenshotspage=397&videospage=397&artpage=397&allguidepage=397&webguidepage=397&integratedguidepage=397&discussionspage=397&numperpage=10&browsefilter=mostrecent&appid=292030&l=english&appHubSubSection=10&filterLanguage=default&searchText=&forceanon=1\n",
      "Number of cards :  10\n",
      "https://steamcommunity.com/app/292030/homecontent/?userreviewsoffset=3970&p=398&workshopitemspage=398&readytouseitemspage=398&mtxitemspage=398&itemspage=398&screenshotspage=398&videospage=398&artpage=398&allguidepage=398&webguidepage=398&integratedguidepage=398&discussionspage=398&numperpage=10&browsefilter=mostrecent&appid=292030&l=english&appHubSubSection=10&filterLanguage=default&searchText=&forceanon=1\n",
      "Number of cards :  10\n",
      "https://steamcommunity.com/app/292030/homecontent/?userreviewsoffset=3980&p=399&workshopitemspage=399&readytouseitemspage=399&mtxitemspage=399&itemspage=399&screenshotspage=399&videospage=399&artpage=399&allguidepage=399&webguidepage=399&integratedguidepage=399&discussionspage=399&numperpage=10&browsefilter=mostrecent&appid=292030&l=english&appHubSubSection=10&filterLanguage=default&searchText=&forceanon=1\n",
      "Number of cards :  10\n",
      "https://steamcommunity.com/app/292030/homecontent/?userreviewsoffset=3990&p=400&workshopitemspage=400&readytouseitemspage=400&mtxitemspage=400&itemspage=400&screenshotspage=400&videospage=400&artpage=400&allguidepage=400&webguidepage=400&integratedguidepage=400&discussionspage=400&numperpage=10&browsefilter=mostrecent&appid=292030&l=english&appHubSubSection=10&filterLanguage=default&searchText=&forceanon=1\n",
      "Number of cards :  10\n"
     ]
    }
   ],
   "source": [
    "import time\n",
    "import re, string\n",
    "\n",
    "\n",
    "game_id = 292030\n",
    "\n",
    "page_url_header = \"https://steamcommunity.com/app/\" + str(game_id) + \"/homecontent/?\"\n",
    "\n",
    "\n",
    "page_url_params = {\n",
    "    \"userreviewsoffset\":10,\n",
    "    \"p\":1,\n",
    "    \"workshopitemspage\": 1,\n",
    "     \"readytouseitemspage\": 1,\n",
    "     \"mtxitemspage\": 1,\n",
    "     \"itemspage\": 1,\n",
    "     \"screenshotspage\": 1,\n",
    "     \"videospage\": 1,\n",
    "     \"artpage\": 1,\n",
    "     \"allguidepage\": 1,\n",
    "     \"webguidepage\": 1,\n",
    "     \"integratedguidepage\": 1,\n",
    "     \"discussionspage\": 1,\n",
    "}\n",
    "\n",
    "page_url_params_frozen = {\n",
    "    \"numperpage\": 10,\n",
    "    \"browsefilter\": \"mostrecent\",\n",
    "    \"appid\": \"292030\",\n",
    "    \"l\": \"english\",\n",
    "    \"appHubSubSection\": 10,\n",
    "    \"filterLanguage\": \"default\",\n",
    "    \"searchText\": \"\",\n",
    "    \"forceanon\": 1\n",
    "}\n",
    "\n",
    "# Make the first page URL\n",
    "page_urls = [\"https://steamcommunity.com/app/\" + str(game_id) + \"/reviews/?browsefilter=mostrecent&snr=1_5_100010_&p=1\"]\n",
    "if it > 0:\n",
    "    page_urls = []\n",
    "# Generate the remaining pages\n",
    "for page_no in range(int(0+it*100), int(100*(it+1))):\n",
    "    my_url = page_url_header\n",
    "    for k, v in page_url_params.items():\n",
    "\n",
    "        if (\"userreviewsoffset\" == k) and (page_no > 0):\n",
    "            my_url += k\n",
    "            my_url += \"=\"\n",
    "            my_url += str(v * page_no)\n",
    "            my_url += \"&\"\n",
    "            continue\n",
    "\n",
    "        my_url += k\n",
    "        my_url += \"=\"\n",
    "        my_url += str(v + page_no)\n",
    "        my_url += \"&\"\n",
    "\n",
    "    for k, v in page_url_params_frozen.items():\n",
    "        my_url += k\n",
    "        my_url += \"=\"\n",
    "        my_url += str(v)\n",
    "        my_url += \"&\"\n",
    "\n",
    "    my_url = my_url[:-1]\n",
    "\n",
    "    page_urls.append(my_url)\n",
    "\n",
    "\n",
    "all_reviews = []\n",
    "\n",
    "for my_url in page_urls:\n",
    "    print(my_url)\n",
    "    \n",
    "    page_soup = get_page_soup(my_url)\n",
    "\n",
    "    div_cards = page_soup.findAll(name=\"div\", attrs={\"class\":\"apphub_CardContentMain\"})\n",
    "    \n",
    "    print(\"Number of cards : \", len(div_cards))\n",
    "\n",
    "    for card in div_cards:\n",
    "        found_helpful = card.findAll(name=\"div\", attrs={\"class\":\"found_helpful\"})[0].text\n",
    "        found_helpful = found_helpful.strip()\n",
    "        flag_recommended = card.findAll(name=\"div\", attrs={\"class\":\"title\"})[0].text\n",
    "        playtime = card.findAll(name=\"div\", attrs={\"class\":\"hours\"})[0].text\n",
    "        date_posted = card.findAll(name=\"div\", attrs={\"class\":\"date_posted\"})[0].text\n",
    "        unclean_review = card.text\n",
    "        review = \"\"\n",
    "        for ucr in unclean_review.split(\"\\t\"):\n",
    "            if (date_posted == ucr) or (len(ucr)==0) or (found_helpful == ucr):\n",
    "                continue\n",
    "            review += ucr\n",
    "            review += \" \"\n",
    "        # Sanity check - remove trailing white space and other text elements\n",
    "        review = review.split(date_posted)[1]\n",
    "        review = review.strip()\n",
    "        all_reviews.append((date_posted, playtime, review, found_helpful, flag_recommended))\n",
    "\n",
    "    time.sleep(1)\n",
    "#     break"
   ]
  },
  {
   "cell_type": "code",
   "execution_count": 97,
   "metadata": {},
   "outputs": [],
   "source": [
    "reviews_df = pd.DataFrame(all_reviews)\n",
    "reviews_df.columns = [\"date_posted\", \"playtime\", \"review\", \"helpful_funny\", \"recommended\"]\n",
    "\n",
    "reviews_df.to_csv(\"./reviews_witcher3_\" + str(it) + \".csv\")\n",
    "it += 1"
   ]
  },
  {
   "cell_type": "code",
   "execution_count": 98,
   "metadata": {},
   "outputs": [
    {
     "data": {
      "text/plain": [
       "(1010, 5)"
      ]
     },
     "metadata": {},
     "output_type": "display_data"
    },
    {
     "data": {
      "text/plain": [
       "(1000, 5)"
      ]
     },
     "metadata": {},
     "output_type": "display_data"
    },
    {
     "data": {
      "text/plain": [
       "(1000, 5)"
      ]
     },
     "metadata": {},
     "output_type": "display_data"
    }
   ],
   "source": [
    "rdf0 = pd.read_csv(\"./reviews_witcher3_0.csv\", index_col=\"Unnamed: 0\")\n",
    "rdf1 = pd.read_csv(\"./reviews_witcher3_1.csv\", index_col=\"Unnamed: 0\")\n",
    "rdf2 = pd.read_csv(\"./reviews_witcher3_3.csv\", index_col=\"Unnamed: 0\")\n",
    "# rdf = pd.read_csv(\"./reviews_gears5.csv\", index_col=\"Unnamed: 0\")\n",
    "display(rdf0.shape, rdf1.shape, rdf2.shape)"
   ]
  },
  {
   "cell_type": "code",
   "execution_count": 99,
   "metadata": {},
   "outputs": [
    {
     "data": {
      "text/plain": [
       "4"
      ]
     },
     "execution_count": 99,
     "metadata": {},
     "output_type": "execute_result"
    }
   ],
   "source": [
    "it"
   ]
  },
  {
   "cell_type": "markdown",
   "metadata": {},
   "source": [
    "-----------"
   ]
  },
  {
   "cell_type": "markdown",
   "metadata": {},
   "source": [
    "-----------"
   ]
  },
  {
   "cell_type": "markdown",
   "metadata": {},
   "source": [
    "-----------"
   ]
  }
 ],
 "metadata": {
  "kernelspec": {
   "display_name": "Python 3",
   "language": "python",
   "name": "python3"
  },
  "language_info": {
   "codemirror_mode": {
    "name": "ipython",
    "version": 3
   },
   "file_extension": ".py",
   "mimetype": "text/x-python",
   "name": "python",
   "nbconvert_exporter": "python",
   "pygments_lexer": "ipython3",
   "version": "3.6.7"
  }
 },
 "nbformat": 4,
 "nbformat_minor": 2
}
